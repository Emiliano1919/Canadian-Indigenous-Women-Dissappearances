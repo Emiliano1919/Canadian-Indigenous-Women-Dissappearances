{
 "cells": [
  {
   "cell_type": "code",
   "execution_count": 11,
   "id": "adc4b1cb-76cb-4fb8-8639-6b1bca087383",
   "metadata": {},
   "outputs": [],
   "source": [
    "import pandas as pd"
   ]
  },
  {
   "cell_type": "code",
   "execution_count": 12,
   "id": "824bbcf7-7ba9-4300-98bb-777ee66a6a29",
   "metadata": {},
   "outputs": [],
   "source": [
    "df = pd.read_csv('cbc.csv')"
   ]
  },
  {
   "cell_type": "code",
   "execution_count": 13,
   "id": "0693c128-2799-48cc-b42d-54c88cf50dcd",
   "metadata": {},
   "outputs": [
    {
     "name": "stdout",
     "output_type": "stream",
     "text": [
      "                 Name  Age  Province     Status\n",
      "0     Abigail Andrews   28        BC    Missing\n",
      "1           Ada Brown   41       N/A   Murdered\n",
      "2  Aielah Saric-Auger   14        BC   Murdered\n",
      "3    Alannah Cardinal   20        AB   Murdered\n",
      "4    Alberta Williams   24        BC   Murdered\n",
      "<class 'pandas.core.frame.DataFrame'>\n",
      "RangeIndex: 307 entries, 0 to 306\n",
      "Data columns (total 4 columns):\n",
      " #   Column     Non-Null Count  Dtype \n",
      "---  ------     --------------  ----- \n",
      " 0   Name       307 non-null    object\n",
      " 1    Age       307 non-null    object\n",
      " 2    Province  307 non-null    object\n",
      " 3    Status    307 non-null    object\n",
      "dtypes: object(4)\n",
      "memory usage: 9.7+ KB\n",
      "None\n",
      "                   Name  Age  Province     Status\n",
      "count               307  307       307        307\n",
      "unique              307   59        13          2\n",
      "top     Abigail Andrews   20        BC   Murdered\n",
      "freq                  1   17        74        191\n"
     ]
    }
   ],
   "source": [
    "print(df.head())  # Shows the first few rows\n",
    "print(df.info())  # Provides a summary of the DataFrame, including data types and missing values\n",
    "print(df.describe())  # Generates summary statistics for numerical columns"
   ]
  },
  {
   "cell_type": "code",
   "execution_count": 15,
   "id": "cf938e77-a2cd-4853-bc7e-9bc740afdba6",
   "metadata": {},
   "outputs": [
    {
     "name": "stdout",
     "output_type": "stream",
     "text": [
      "                   Name   Age  Province     Status First-Name    Last-Name\n",
      "0       Abigail Andrews    28        BC    Missing    Abigail      Andrews\n",
      "1             Ada Brown    41       N/A   Murdered        Ada        Brown\n",
      "2    Aielah Saric-Auger    14        BC   Murdered     Aielah  Saric-Auger\n",
      "3      Alannah Cardinal    20        AB   Murdered    Alannah     Cardinal\n",
      "4      Alberta Williams    24        BC   Murdered    Alberta     Williams\n",
      "..                  ...   ...       ...        ...        ...          ...\n",
      "302  Victoria Crow Shoe    43       N/A   Murdered   Victoria    Crow Shoe\n",
      "303  Victoria Hornbrook   N/A        MB   Murdered   Victoria    Hornbrook\n",
      "304    Viola Panacheese    42        ON    Missing      Viola   Panacheese\n",
      "305      Violet Heathen    49        AB   Murdered     Violet      Heathen\n",
      "306         Wendy Poole    20        BC   Murdered      Wendy        Poole\n",
      "\n",
      "[307 rows x 6 columns]\n"
     ]
    }
   ],
   "source": [
    "df[['First-Name', 'Last-Name']] = df['Name'].str.split(' ', n=1, expand=True)\n",
    "print(df)"
   ]
  },
  {
   "cell_type": "code",
   "execution_count": null,
   "id": "5b60399f-18db-47aa-935a-e9a9b6fea16c",
   "metadata": {},
   "outputs": [],
   "source": []
  },
  {
   "cell_type": "code",
   "execution_count": null,
   "id": "322fb8aa-74fe-4ef9-b29b-bc36bab121ac",
   "metadata": {},
   "outputs": [],
   "source": []
  }
 ],
 "metadata": {
  "kernelspec": {
   "display_name": "Python 3 (ipykernel)",
   "language": "python",
   "name": "python3"
  },
  "language_info": {
   "codemirror_mode": {
    "name": "ipython",
    "version": 3
   },
   "file_extension": ".py",
   "mimetype": "text/x-python",
   "name": "python",
   "nbconvert_exporter": "python",
   "pygments_lexer": "ipython3",
   "version": "3.11.5"
  }
 },
 "nbformat": 4,
 "nbformat_minor": 5
}
