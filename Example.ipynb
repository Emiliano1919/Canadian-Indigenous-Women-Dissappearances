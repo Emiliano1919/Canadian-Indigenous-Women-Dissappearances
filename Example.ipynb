{
 "cells": [
  {
   "cell_type": "code",
   "execution_count": 64,
   "id": "4f652a17-6189-4660-ad8a-13359eae08c1",
   "metadata": {},
   "outputs": [
    {
     "data": {
      "text/html": [
       "<div>\n",
       "<style scoped>\n",
       "    .dataframe tbody tr th:only-of-type {\n",
       "        vertical-align: middle;\n",
       "    }\n",
       "\n",
       "    .dataframe tbody tr th {\n",
       "        vertical-align: top;\n",
       "    }\n",
       "\n",
       "    .dataframe thead th {\n",
       "        text-align: right;\n",
       "    }\n",
       "</style>\n",
       "<table border=\"1\" class=\"dataframe\">\n",
       "  <thead>\n",
       "    <tr style=\"text-align: right;\">\n",
       "      <th></th>\n",
       "      <th>Name</th>\n",
       "      <th>Age</th>\n",
       "      <th>Province</th>\n",
       "      <th>Status</th>\n",
       "      <th>First-Name</th>\n",
       "      <th>Last-Name</th>\n",
       "      <th>LS-Latitude</th>\n",
       "      <th>LS-Longitude</th>\n",
       "      <th>LS-Location Source</th>\n",
       "      <th>F-Latitude</th>\n",
       "      <th>F-Longitude</th>\n",
       "      <th>F-Location Source</th>\n",
       "      <th>F-Year</th>\n",
       "      <th>F-Month</th>\n",
       "      <th>F-Day</th>\n",
       "      <th>LS-Year</th>\n",
       "      <th>LS-Month</th>\n",
       "      <th>LS-Day</th>\n",
       "    </tr>\n",
       "  </thead>\n",
       "  <tbody>\n",
       "    <tr>\n",
       "      <th>0</th>\n",
       "      <td>Abigail Andrews</td>\n",
       "      <td>28</td>\n",
       "      <td>BC</td>\n",
       "      <td>Missing</td>\n",
       "      <td>Abigail</td>\n",
       "      <td>Andrews</td>\n",
       "      <td>56.252152</td>\n",
       "      <td>-120.843491</td>\n",
       "      <td>https://www.cbc.ca/missingandmurdered/mmiw/pro...</td>\n",
       "      <td>0.000000</td>\n",
       "      <td>0.000000</td>\n",
       "      <td>NaN</td>\n",
       "      <td>0</td>\n",
       "      <td>0</td>\n",
       "      <td>0</td>\n",
       "      <td>2010</td>\n",
       "      <td>4</td>\n",
       "      <td>7</td>\n",
       "    </tr>\n",
       "    <tr>\n",
       "      <th>1</th>\n",
       "      <td>Ada Brown</td>\n",
       "      <td>41</td>\n",
       "      <td>N/A</td>\n",
       "      <td>Murdered</td>\n",
       "      <td>Ada</td>\n",
       "      <td>Brown</td>\n",
       "      <td>0.000000</td>\n",
       "      <td>0.000000</td>\n",
       "      <td>NaN</td>\n",
       "      <td>53.915868</td>\n",
       "      <td>-122.749682</td>\n",
       "      <td>https://www.cbc.ca/missingandmurdered/mmiw/pro...</td>\n",
       "      <td>2001</td>\n",
       "      <td>4</td>\n",
       "      <td>1</td>\n",
       "      <td>0</td>\n",
       "      <td>0</td>\n",
       "      <td>0</td>\n",
       "    </tr>\n",
       "    <tr>\n",
       "      <th>2</th>\n",
       "      <td>Aielah Saric-Auger</td>\n",
       "      <td>14</td>\n",
       "      <td>BC</td>\n",
       "      <td>Murdered</td>\n",
       "      <td>Aielah</td>\n",
       "      <td>Saric-Auger</td>\n",
       "      <td>53.897478</td>\n",
       "      <td>-122.777436</td>\n",
       "      <td>https://thehueandcry.com/aielah-saric-auger</td>\n",
       "      <td>53.945427</td>\n",
       "      <td>-122.456896</td>\n",
       "      <td>https://www.princegeorgecitizen.com/local-news...</td>\n",
       "      <td>2006</td>\n",
       "      <td>2</td>\n",
       "      <td>10</td>\n",
       "      <td>2006</td>\n",
       "      <td>2</td>\n",
       "      <td>2</td>\n",
       "    </tr>\n",
       "    <tr>\n",
       "      <th>3</th>\n",
       "      <td>Alannah Cardinal</td>\n",
       "      <td>20</td>\n",
       "      <td>AB</td>\n",
       "      <td>Murdered</td>\n",
       "      <td>Alannah</td>\n",
       "      <td>Cardinal</td>\n",
       "      <td>54.300895</td>\n",
       "      <td>-111.833420</td>\n",
       "      <td>https://www.cbc.ca/missingandmurdered/mmiw/pro...</td>\n",
       "      <td>54.300895</td>\n",
       "      <td>-111.833420</td>\n",
       "      <td>https://www.cbc.ca/missingandmurdered/mmiw/pro...</td>\n",
       "      <td>2016</td>\n",
       "      <td>7</td>\n",
       "      <td>25</td>\n",
       "      <td>2016</td>\n",
       "      <td>7</td>\n",
       "      <td>16</td>\n",
       "    </tr>\n",
       "    <tr>\n",
       "      <th>4</th>\n",
       "      <td>Alberta Williams</td>\n",
       "      <td>24</td>\n",
       "      <td>BC</td>\n",
       "      <td>Murdered</td>\n",
       "      <td>Alberta</td>\n",
       "      <td>Williams</td>\n",
       "      <td>54.308600</td>\n",
       "      <td>-130.333923</td>\n",
       "      <td>https://thehueandcry.com/alberta-williams</td>\n",
       "      <td>54.298882</td>\n",
       "      <td>-130.270491</td>\n",
       "      <td>https://thehueandcry.com/alberta-williams</td>\n",
       "      <td>1989</td>\n",
       "      <td>9</td>\n",
       "      <td>25</td>\n",
       "      <td>1989</td>\n",
       "      <td>8</td>\n",
       "      <td>25</td>\n",
       "    </tr>\n",
       "  </tbody>\n",
       "</table>\n",
       "</div>"
      ],
      "text/plain": [
       "                 Name  Age Province     Status First-Name    Last-Name  \\\n",
       "0     Abigail Andrews   28       BC    Missing    Abigail      Andrews   \n",
       "1           Ada Brown   41      N/A   Murdered        Ada        Brown   \n",
       "2  Aielah Saric-Auger   14       BC   Murdered     Aielah  Saric-Auger   \n",
       "3    Alannah Cardinal   20       AB   Murdered    Alannah     Cardinal   \n",
       "4    Alberta Williams   24       BC   Murdered    Alberta     Williams   \n",
       "\n",
       "   LS-Latitude  LS-Longitude  \\\n",
       "0    56.252152   -120.843491   \n",
       "1     0.000000      0.000000   \n",
       "2    53.897478   -122.777436   \n",
       "3    54.300895   -111.833420   \n",
       "4    54.308600   -130.333923   \n",
       "\n",
       "                                  LS-Location Source  F-Latitude  F-Longitude  \\\n",
       "0  https://www.cbc.ca/missingandmurdered/mmiw/pro...    0.000000     0.000000   \n",
       "1                                                NaN   53.915868  -122.749682   \n",
       "2        https://thehueandcry.com/aielah-saric-auger   53.945427  -122.456896   \n",
       "3  https://www.cbc.ca/missingandmurdered/mmiw/pro...   54.300895  -111.833420   \n",
       "4          https://thehueandcry.com/alberta-williams   54.298882  -130.270491   \n",
       "\n",
       "                                   F-Location Source  F-Year  F-Month  F-Day  \\\n",
       "0                                                NaN       0        0      0   \n",
       "1  https://www.cbc.ca/missingandmurdered/mmiw/pro...    2001        4      1   \n",
       "2  https://www.princegeorgecitizen.com/local-news...    2006        2     10   \n",
       "3  https://www.cbc.ca/missingandmurdered/mmiw/pro...    2016        7     25   \n",
       "4          https://thehueandcry.com/alberta-williams    1989        9     25   \n",
       "\n",
       "   LS-Year  LS-Month  LS-Day  \n",
       "0     2010         4       7  \n",
       "1        0         0       0  \n",
       "2     2006         2       2  \n",
       "3     2016         7      16  \n",
       "4     1989         8      25  "
      ]
     },
     "execution_count": 64,
     "metadata": {},
     "output_type": "execute_result"
    }
   ],
   "source": [
    "import plotly.express as px\n",
    "df = pd.read_csv('cbc_Updated.csv')\n",
    "\n",
    "df.head()"
   ]
  },
  {
   "cell_type": "code",
   "execution_count": 65,
   "id": "79531f03-120a-4082-99a4-9f413465d706",
   "metadata": {},
   "outputs": [
    {
     "data": {
      "application/vnd.plotly.v1+json": {
       "config": {
        "plotlyServerURL": "https://plot.ly"
       },
       "data": [
        {
         "hovertemplate": "<b>%{hovertext}</b><br><br>LS-Latitude=%{lat}<br>LS-Longitude=%{lon}<extra></extra>",
         "hovertext": [
          "Abigail Andrews",
          "Ada Brown",
          "Aielah Saric-Auger",
          "Alannah Cardinal",
          "Alberta Williams",
          "Alice Netemegesic",
          "Alisha Germaine",
          "Amanda Cook",
          "Amanda Simpson",
          "Amanda Bartlett",
          "Amber Tuccaro",
          "Amber Guiboche",
          "Andria Meise",
          "Annette Holywhiteman",
          "Angel Carlick",
          "Angela Meyer",
          "Angela Williams",
          "Angela Poorman",
          "Angeline Pete",
          "Anne Peters",
          "Annie Pootoogook",
          "Annie Yassie",
          "Ashley Machiskinic",
          "Audrey Desjarlais",
          "Azraya Ackabee-Kokopenace",
          "Baby Girl",
          "Barbara Keam",
          "Barbara Shapwaykeesic",
          "Beatrice Adam",
          "Belinda Cameron",
          "Belinda Williams",
          "Bella Laboucan-McLean",
          "Bernadette Ahenakew",
          "Bernadine Quewezance",
          "Bernice Bottle",
          "Betsy Owens",
          "Bonnie Jack",
          "Bonnie Joseph",
          "Brandy Vittrekwa",
          "Brandy Wesaquate",
          "Brenda Campbell",
          "Brittany Bearspaw",
          "Brooklyn Moose",
          "Caitlin Potts",
          "Caralyn King",
          "Carol Prudhomme",
          "Carol Davis",
          "Caroline Burns",
          "Carolyn Connolly",
          "Cassandra Antone",
          "Cathy Williams",
          "Cecilia Nikal",
          "Cecilia Payash",
          "Chantelle Bushie",
          "Charlene Catholique",
          "Charnelle Masakeyash",
          "Cherisse Houle",
          "Cheryl Duck",
          "Cheryl Johnson",
          "Cheryl Black",
          "Cheyenne Fox",
          "Christina Littlejohn",
          "Christine Cardinal",
          "Cindy Gladue",
          "Claudette Osborne",
          "Constance Cameron",
          "Corrine Moosomin",
          "Crystal Saunders",
          "Cynthia Audy",
          "Danielle LaRue",
          "Danita Bigeagle",
          "Darlinda Ritchey",
          "Dawn Keewatin",
          "Dawn Crey",
          "Deanna Bellerose",
          "Debbie Pelletier",
          "Deborah Sloss",
          "Deidre Michelin",
          "Delaine Copenace",
          "Delena Lefthand Dixon",
          "Della Ootoova",
          "Delores Brown",
          "Delores Brower",
          "Delores Whiteman",
          "Delphine Nikal",
          "Desiree Oldwoman",
          "Destiny Tom",
          "Diana Rattlesnake",
          "Diane Dobson",
          "Diane Stewart",
          "Dianne Bignell",
          "Donna Kasyon",
          "Donna Taylor",
          "Doreen Hardy",
          "Doreen Jack",
          "Dorothy Spence",
          "Edna Bernard",
          "Edna Smith",
          "Elaine Alook",
          "Elizabeth Dorion",
          "Elsie Sebastian",
          "Emily Ballantyne",
          "Emily Osmond",
          "Emma Dixon",
          "Ernestine Kasyon",
          "Eva Mitchell",
          "Evaline Cameron",
          "Evelyn Kebalo",
          "Felicia Solomon",
          "Fonassa Bruyere",
          "Frances Ellah",
          "Freda Goodrunning",
          "Geraldine Beardy",
          "Geraldine Settee",
          "Gladys Simon",
          "Gladys Tolley",
          "Glenda Morriseau",
          "Glennis Edwards",
          "Gloria Black Plume",
          "Gloria Moody",
          "Gloria Gladue",
          "Heather Ballantyne",
          "Heaven Traverse",
          "Helen Gillings",
          "Helene Ratfat",
          "Marjorie Henderson",
          "Henrietta Millek",
          "Hillary Wilson",
          "Ila Oman",
          "Immaculate Basil",
          "Irma Murdock",
          "Jacqueline Crazybull",
          "Jamie McGuire",
          "Jane Bernard",
          "Jane Sutherland",
          "Janet Henry",
          "Janet Sylvestre",
          "Janice Desjarlais",
          "Janine Wesaquate",
          "Jarita Naistus",
          "Jean Moccasin",
          "Jean Sampare",
          "Jeanenne Fontaine",
          "Jeanette Basil",
          "Jeanette Cardinal",
          "Jeanine St. Jean",
          "Jeannette Chief",
          "Jennifer Catcheway",
          "Jessica Cardinal",
          "Joanne Ghostkeeper",
          "Joey English",
          "Josephine Chakasim",
          "Joyce Hewitt",
          "Joyce Tillotson",
          "Juanita Cardinal",
          "Judy Chescue",
          "Judy Quill",
          "Justine Cochrane",
          "Kari Gordon",
          "Karina Wolfe",
          "Kathleen Leary",
          "Katie Ballantyne",
          "Kellie Little",
          "Kelly Goforth",
          "Kelly Morrisseau",
          "Krystal Andrews",
          "Krystle Knott",
          "Lana Derrick",
          "Lavina Tocher",
          "Leah Anderson",
          "Leanne Benwell",
          "Leona Brule",
          "Leslie Talley",
          "Linda Scott",
          "Linda Guimond",
          "Linda Condo",
          "Lisa Young",
          "Loretta Frank",
          "Lora Banman",
          "Loretta Capot-Blanc",
          "Lori Berens",
          "Lori Kasprick",
          "Lorilee Francis",
          "Mabel Leo",
          "Mae Morton",
          "Maggie Burke",
          "Maggie Mink",
          "Maggie Natomagan",
          "Maisy Odjick",
          "Marcia Koostachin",
          "Margaret Blackbird",
          "Margaret Guylee",
          "Margaret Vedan",
          "Marie Banks",
          "Marie Laliberte",
          "Marie Lasas",
          "Marie Mike",
          "Marie Desjarlais",
          "Mariella Lennie",
          "Marilyn Daniels",
          "Marilyn Munroe",
          "Marlene Abigosis",
          "Martha Boyce",
          "Mary Ann Birmingham",
          "Mary Mark",
          "Mary Hill",
          "Mary Kreiser",
          "Mary Lidguerre",
          "Mary Smith",
          "Mary Goodfellow",
          "Mary Keadjuk",
          "Mavis Mason",
          "Maxine Wapass",
          "Melanie Geddes",
          "Melissa Chaboyer",
          "Michelle Gurney",
          "Michelle Hadwen",
          "Mildred Flett",
          "Misty Potts",
          "Moira Erb",
          "Monica Cardinal",
          "Monica Jack",
          "Flora Muskego",
          "Myrna Montgrand",
          "Nadine Machiskinic",
          "Nancy Dumas",
          "Naomi Desjarlais",
          "Nellie Angutiguluk",
          "Nicole Daniels",
          "Nicolle Hands",
          "Olivia Williams",
          "Pamela Holopainen",
          "Pamela Napoleon",
          "Patricia Quinn",
          "Patricia Carpenter",
          "Patricia Wadhams",
          "Patricia Favel",
          "Pauline Brazeau",
          "Philomene Lemay",
          "Rachel Quinney",
          "Ramona Shular",
          "Ramona Wilson",
          "Rebecca Guno",
          "Rena Fox",
          "Rene Gunning",
          "Rhonda Gardiner",
          "Rhonda Running Bird",
          "Richele Bear",
          "Roberta Lincoln",
          "Roberta Ferguson",
          "Rocelyn Gabriel",
          "Rose-Ann Blackned",
          "Rose Decoteau",
          "Rowena Sharpe",
          "Roxanne Charlie",
          "Roxanne Fleming",
          "Roxanne Isadore",
          "Roxanne Thiara",
          "Ruby Hardy",
          "Ruth Cocks",
          "Sabrina Polchies",
          "Samantha Paul",
          "Sandra Johnson",
          "Sarah Obed",
          "Sarah Skunk",
          "Savannah Hall",
          "Selina Wallace",
          "Serenity",
          "Shannon Alexander",
          "Sharon Merasty",
          "Sharon Abraham",
          "Shelley Anderson",
          "Shelly Dene",
          "Shirley Waquan",
          "Shirley Lonethunder",
          "Shirley Beardy",
          "Shirley Cletheroe",
          "Simone Sanderson",
          "Sindy Ruperthouse",
          "Sonya Cywink",
          "Stella St. Arnault",
          "Sunshine Wood",
          "Susan Assin",
          "Sylvia Guiboche",
          "Tabitha Kalluk",
          "Tamara Chipman",
          "Tamra Keepness",
          "Tania Marsden",
          "Tanya Nepinak",
          "Tanya Brooks",
          "Tanya Hill",
          "Teresa Robinson",
          "Terrie Dauphinais",
          "Thelma Pete",
          "Therena Silva",
          "Therese Labbe",
          "Tiffany Morrison",
          "Tiffany Skye",
          "Tina Fontaine",
          "Trudy Gopher",
          "Velma Duncan",
          "Verna Simard",
          "Victoria Crow Shoe",
          "Victoria Hornbrook",
          "Viola Panacheese",
          "Violet Heathen",
          "Wendy Poole"
         ],
         "lat": [
          56.25215177768922,
          0,
          53.89747828630815,
          54.30089470461054,
          54.308599512410275,
          0,
          53.91938017895877,
          0,
          0,
          0,
          0,
          0,
          0,
          0,
          0,
          0,
          0,
          0,
          0,
          0,
          0,
          0,
          0,
          0,
          0,
          0,
          0,
          0,
          0,
          0,
          0,
          0,
          0,
          0,
          0,
          0,
          0,
          0,
          0,
          0,
          0,
          0,
          0,
          0,
          0,
          0,
          0,
          0,
          0,
          0,
          0,
          0,
          0,
          0,
          0,
          0,
          0,
          0,
          0,
          0,
          0,
          0,
          0,
          0,
          0,
          0,
          0,
          0,
          0,
          0,
          0,
          0,
          0,
          0,
          0,
          0,
          0,
          0,
          0,
          0,
          0,
          0,
          0,
          0,
          0,
          0,
          0,
          0,
          0,
          0,
          0,
          0,
          0,
          0,
          0,
          0,
          0,
          0,
          0,
          0,
          0,
          0,
          0,
          0,
          0,
          0,
          0,
          0,
          0,
          0,
          0,
          0,
          0,
          0,
          0,
          0,
          0,
          0,
          0,
          0,
          0,
          0,
          0,
          0,
          0,
          0,
          0,
          0,
          0,
          0,
          0,
          0,
          0,
          0,
          0,
          0,
          0,
          0,
          0,
          0,
          0,
          0,
          0,
          0,
          0,
          0,
          0,
          0,
          0,
          0,
          0,
          0,
          0,
          0,
          0,
          0,
          0,
          0,
          0,
          0,
          0,
          0,
          0,
          0,
          0,
          0,
          0,
          0,
          0,
          0,
          0,
          0,
          0,
          0,
          0,
          0,
          0,
          0,
          0,
          0,
          0,
          0,
          0,
          0,
          0,
          0,
          0,
          0,
          0,
          0,
          0,
          0,
          0,
          0,
          0,
          0,
          0,
          0,
          0,
          0,
          0,
          0,
          0,
          0,
          0,
          0,
          0,
          0,
          0,
          0,
          0,
          0,
          0,
          0,
          0,
          0,
          0,
          0,
          0,
          0,
          0,
          0,
          0,
          0,
          0,
          0,
          0,
          0,
          0,
          0,
          0,
          0,
          0,
          0,
          0,
          0,
          0,
          0,
          0,
          0,
          0,
          0,
          0,
          0,
          0,
          0,
          0,
          0,
          0,
          0,
          0,
          0,
          0,
          0,
          0,
          0,
          0,
          0,
          0,
          0,
          0,
          0,
          0,
          0,
          0,
          0,
          0,
          0,
          0,
          0,
          0,
          0,
          0,
          0,
          0,
          0,
          0,
          0,
          0,
          0,
          0,
          0,
          0,
          0,
          0,
          0,
          0,
          0,
          0,
          0,
          0,
          0,
          0,
          0,
          0,
          0,
          0,
          0,
          0,
          0,
          0,
          0,
          0,
          0,
          0,
          0,
          0
         ],
         "legendgroup": "",
         "lon": [
          -120.84349141339248,
          0,
          -122.77743637395488,
          -111.83341989690068,
          -130.33392263404053,
          0,
          -122.75220256367597,
          0,
          0,
          0,
          0,
          0,
          0,
          0,
          0,
          0,
          0,
          0,
          0,
          0,
          0,
          0,
          0,
          0,
          0,
          0,
          0,
          0,
          0,
          0,
          0,
          0,
          0,
          0,
          0,
          0,
          0,
          0,
          0,
          0,
          0,
          0,
          0,
          0,
          0,
          0,
          0,
          0,
          0,
          0,
          0,
          0,
          0,
          0,
          0,
          0,
          0,
          0,
          0,
          0,
          0,
          0,
          0,
          0,
          0,
          0,
          0,
          0,
          0,
          0,
          0,
          0,
          0,
          0,
          0,
          0,
          0,
          0,
          0,
          0,
          0,
          0,
          0,
          0,
          0,
          0,
          0,
          0,
          0,
          0,
          0,
          0,
          0,
          0,
          0,
          0,
          0,
          0,
          0,
          0,
          0,
          0,
          0,
          0,
          0,
          0,
          0,
          0,
          0,
          0,
          0,
          0,
          0,
          0,
          0,
          0,
          0,
          0,
          0,
          0,
          0,
          0,
          0,
          0,
          0,
          0,
          0,
          0,
          0,
          0,
          0,
          0,
          0,
          0,
          0,
          0,
          0,
          0,
          0,
          0,
          0,
          0,
          0,
          0,
          0,
          0,
          0,
          0,
          0,
          0,
          0,
          0,
          0,
          0,
          0,
          0,
          0,
          0,
          0,
          0,
          0,
          0,
          0,
          0,
          0,
          0,
          0,
          0,
          0,
          0,
          0,
          0,
          0,
          0,
          0,
          0,
          0,
          0,
          0,
          0,
          0,
          0,
          0,
          0,
          0,
          0,
          0,
          0,
          0,
          0,
          0,
          0,
          0,
          0,
          0,
          0,
          0,
          0,
          0,
          0,
          0,
          0,
          0,
          0,
          0,
          0,
          0,
          0,
          0,
          0,
          0,
          0,
          0,
          0,
          0,
          0,
          0,
          0,
          0,
          0,
          0,
          0,
          0,
          0,
          0,
          0,
          0,
          0,
          0,
          0,
          0,
          0,
          0,
          0,
          0,
          0,
          0,
          0,
          0,
          0,
          0,
          0,
          0,
          0,
          0,
          0,
          0,
          0,
          0,
          0,
          0,
          0,
          0,
          0,
          0,
          0,
          0,
          0,
          0,
          0,
          0,
          0,
          0,
          0,
          0,
          0,
          0,
          0,
          0,
          0,
          0,
          0,
          0,
          0,
          0,
          0,
          0,
          0,
          0,
          0,
          0,
          0,
          0,
          0,
          0,
          0,
          0,
          0,
          0,
          0,
          0,
          0,
          0,
          0,
          0,
          0,
          0,
          0,
          0,
          0,
          0,
          0,
          0,
          0,
          0,
          0,
          0
         ],
         "marker": {
          "color": "#636efa"
         },
         "mode": "markers",
         "name": "",
         "showlegend": false,
         "subplot": "mapbox",
         "type": "scattermapbox"
        }
       ],
       "layout": {
        "autosize": true,
        "legend": {
         "tracegroupgap": 0
        },
        "mapbox": {
         "bearing": 0,
         "center": {
          "lat": 54.33622643303414,
          "lon": -100.54291493062829
         },
         "domain": {
          "x": [
           0,
           1
          ],
          "y": [
           0,
           1
          ]
         },
         "pitch": 0,
         "style": "carto-positron",
         "zoom": 2.295766327591267
        },
        "template": {
         "data": {
          "bar": [
           {
            "error_x": {
             "color": "#2a3f5f"
            },
            "error_y": {
             "color": "#2a3f5f"
            },
            "marker": {
             "line": {
              "color": "#E5ECF6",
              "width": 0.5
             },
             "pattern": {
              "fillmode": "overlay",
              "size": 10,
              "solidity": 0.2
             }
            },
            "type": "bar"
           }
          ],
          "barpolar": [
           {
            "marker": {
             "line": {
              "color": "#E5ECF6",
              "width": 0.5
             },
             "pattern": {
              "fillmode": "overlay",
              "size": 10,
              "solidity": 0.2
             }
            },
            "type": "barpolar"
           }
          ],
          "carpet": [
           {
            "aaxis": {
             "endlinecolor": "#2a3f5f",
             "gridcolor": "white",
             "linecolor": "white",
             "minorgridcolor": "white",
             "startlinecolor": "#2a3f5f"
            },
            "baxis": {
             "endlinecolor": "#2a3f5f",
             "gridcolor": "white",
             "linecolor": "white",
             "minorgridcolor": "white",
             "startlinecolor": "#2a3f5f"
            },
            "type": "carpet"
           }
          ],
          "choropleth": [
           {
            "colorbar": {
             "outlinewidth": 0,
             "ticks": ""
            },
            "type": "choropleth"
           }
          ],
          "contour": [
           {
            "colorbar": {
             "outlinewidth": 0,
             "ticks": ""
            },
            "colorscale": [
             [
              0,
              "#0d0887"
             ],
             [
              0.1111111111111111,
              "#46039f"
             ],
             [
              0.2222222222222222,
              "#7201a8"
             ],
             [
              0.3333333333333333,
              "#9c179e"
             ],
             [
              0.4444444444444444,
              "#bd3786"
             ],
             [
              0.5555555555555556,
              "#d8576b"
             ],
             [
              0.6666666666666666,
              "#ed7953"
             ],
             [
              0.7777777777777778,
              "#fb9f3a"
             ],
             [
              0.8888888888888888,
              "#fdca26"
             ],
             [
              1,
              "#f0f921"
             ]
            ],
            "type": "contour"
           }
          ],
          "contourcarpet": [
           {
            "colorbar": {
             "outlinewidth": 0,
             "ticks": ""
            },
            "type": "contourcarpet"
           }
          ],
          "heatmap": [
           {
            "colorbar": {
             "outlinewidth": 0,
             "ticks": ""
            },
            "colorscale": [
             [
              0,
              "#0d0887"
             ],
             [
              0.1111111111111111,
              "#46039f"
             ],
             [
              0.2222222222222222,
              "#7201a8"
             ],
             [
              0.3333333333333333,
              "#9c179e"
             ],
             [
              0.4444444444444444,
              "#bd3786"
             ],
             [
              0.5555555555555556,
              "#d8576b"
             ],
             [
              0.6666666666666666,
              "#ed7953"
             ],
             [
              0.7777777777777778,
              "#fb9f3a"
             ],
             [
              0.8888888888888888,
              "#fdca26"
             ],
             [
              1,
              "#f0f921"
             ]
            ],
            "type": "heatmap"
           }
          ],
          "heatmapgl": [
           {
            "colorbar": {
             "outlinewidth": 0,
             "ticks": ""
            },
            "colorscale": [
             [
              0,
              "#0d0887"
             ],
             [
              0.1111111111111111,
              "#46039f"
             ],
             [
              0.2222222222222222,
              "#7201a8"
             ],
             [
              0.3333333333333333,
              "#9c179e"
             ],
             [
              0.4444444444444444,
              "#bd3786"
             ],
             [
              0.5555555555555556,
              "#d8576b"
             ],
             [
              0.6666666666666666,
              "#ed7953"
             ],
             [
              0.7777777777777778,
              "#fb9f3a"
             ],
             [
              0.8888888888888888,
              "#fdca26"
             ],
             [
              1,
              "#f0f921"
             ]
            ],
            "type": "heatmapgl"
           }
          ],
          "histogram": [
           {
            "marker": {
             "pattern": {
              "fillmode": "overlay",
              "size": 10,
              "solidity": 0.2
             }
            },
            "type": "histogram"
           }
          ],
          "histogram2d": [
           {
            "colorbar": {
             "outlinewidth": 0,
             "ticks": ""
            },
            "colorscale": [
             [
              0,
              "#0d0887"
             ],
             [
              0.1111111111111111,
              "#46039f"
             ],
             [
              0.2222222222222222,
              "#7201a8"
             ],
             [
              0.3333333333333333,
              "#9c179e"
             ],
             [
              0.4444444444444444,
              "#bd3786"
             ],
             [
              0.5555555555555556,
              "#d8576b"
             ],
             [
              0.6666666666666666,
              "#ed7953"
             ],
             [
              0.7777777777777778,
              "#fb9f3a"
             ],
             [
              0.8888888888888888,
              "#fdca26"
             ],
             [
              1,
              "#f0f921"
             ]
            ],
            "type": "histogram2d"
           }
          ],
          "histogram2dcontour": [
           {
            "colorbar": {
             "outlinewidth": 0,
             "ticks": ""
            },
            "colorscale": [
             [
              0,
              "#0d0887"
             ],
             [
              0.1111111111111111,
              "#46039f"
             ],
             [
              0.2222222222222222,
              "#7201a8"
             ],
             [
              0.3333333333333333,
              "#9c179e"
             ],
             [
              0.4444444444444444,
              "#bd3786"
             ],
             [
              0.5555555555555556,
              "#d8576b"
             ],
             [
              0.6666666666666666,
              "#ed7953"
             ],
             [
              0.7777777777777778,
              "#fb9f3a"
             ],
             [
              0.8888888888888888,
              "#fdca26"
             ],
             [
              1,
              "#f0f921"
             ]
            ],
            "type": "histogram2dcontour"
           }
          ],
          "mesh3d": [
           {
            "colorbar": {
             "outlinewidth": 0,
             "ticks": ""
            },
            "type": "mesh3d"
           }
          ],
          "parcoords": [
           {
            "line": {
             "colorbar": {
              "outlinewidth": 0,
              "ticks": ""
             }
            },
            "type": "parcoords"
           }
          ],
          "pie": [
           {
            "automargin": true,
            "type": "pie"
           }
          ],
          "scatter": [
           {
            "fillpattern": {
             "fillmode": "overlay",
             "size": 10,
             "solidity": 0.2
            },
            "type": "scatter"
           }
          ],
          "scatter3d": [
           {
            "line": {
             "colorbar": {
              "outlinewidth": 0,
              "ticks": ""
             }
            },
            "marker": {
             "colorbar": {
              "outlinewidth": 0,
              "ticks": ""
             }
            },
            "type": "scatter3d"
           }
          ],
          "scattercarpet": [
           {
            "marker": {
             "colorbar": {
              "outlinewidth": 0,
              "ticks": ""
             }
            },
            "type": "scattercarpet"
           }
          ],
          "scattergeo": [
           {
            "marker": {
             "colorbar": {
              "outlinewidth": 0,
              "ticks": ""
             }
            },
            "type": "scattergeo"
           }
          ],
          "scattergl": [
           {
            "marker": {
             "colorbar": {
              "outlinewidth": 0,
              "ticks": ""
             }
            },
            "type": "scattergl"
           }
          ],
          "scattermapbox": [
           {
            "marker": {
             "colorbar": {
              "outlinewidth": 0,
              "ticks": ""
             }
            },
            "type": "scattermapbox"
           }
          ],
          "scatterpolar": [
           {
            "marker": {
             "colorbar": {
              "outlinewidth": 0,
              "ticks": ""
             }
            },
            "type": "scatterpolar"
           }
          ],
          "scatterpolargl": [
           {
            "marker": {
             "colorbar": {
              "outlinewidth": 0,
              "ticks": ""
             }
            },
            "type": "scatterpolargl"
           }
          ],
          "scatterternary": [
           {
            "marker": {
             "colorbar": {
              "outlinewidth": 0,
              "ticks": ""
             }
            },
            "type": "scatterternary"
           }
          ],
          "surface": [
           {
            "colorbar": {
             "outlinewidth": 0,
             "ticks": ""
            },
            "colorscale": [
             [
              0,
              "#0d0887"
             ],
             [
              0.1111111111111111,
              "#46039f"
             ],
             [
              0.2222222222222222,
              "#7201a8"
             ],
             [
              0.3333333333333333,
              "#9c179e"
             ],
             [
              0.4444444444444444,
              "#bd3786"
             ],
             [
              0.5555555555555556,
              "#d8576b"
             ],
             [
              0.6666666666666666,
              "#ed7953"
             ],
             [
              0.7777777777777778,
              "#fb9f3a"
             ],
             [
              0.8888888888888888,
              "#fdca26"
             ],
             [
              1,
              "#f0f921"
             ]
            ],
            "type": "surface"
           }
          ],
          "table": [
           {
            "cells": {
             "fill": {
              "color": "#EBF0F8"
             },
             "line": {
              "color": "white"
             }
            },
            "header": {
             "fill": {
              "color": "#C8D4E3"
             },
             "line": {
              "color": "white"
             }
            },
            "type": "table"
           }
          ]
         },
         "layout": {
          "annotationdefaults": {
           "arrowcolor": "#2a3f5f",
           "arrowhead": 0,
           "arrowwidth": 1
          },
          "autotypenumbers": "strict",
          "coloraxis": {
           "colorbar": {
            "outlinewidth": 0,
            "ticks": ""
           }
          },
          "colorscale": {
           "diverging": [
            [
             0,
             "#8e0152"
            ],
            [
             0.1,
             "#c51b7d"
            ],
            [
             0.2,
             "#de77ae"
            ],
            [
             0.3,
             "#f1b6da"
            ],
            [
             0.4,
             "#fde0ef"
            ],
            [
             0.5,
             "#f7f7f7"
            ],
            [
             0.6,
             "#e6f5d0"
            ],
            [
             0.7,
             "#b8e186"
            ],
            [
             0.8,
             "#7fbc41"
            ],
            [
             0.9,
             "#4d9221"
            ],
            [
             1,
             "#276419"
            ]
           ],
           "sequential": [
            [
             0,
             "#0d0887"
            ],
            [
             0.1111111111111111,
             "#46039f"
            ],
            [
             0.2222222222222222,
             "#7201a8"
            ],
            [
             0.3333333333333333,
             "#9c179e"
            ],
            [
             0.4444444444444444,
             "#bd3786"
            ],
            [
             0.5555555555555556,
             "#d8576b"
            ],
            [
             0.6666666666666666,
             "#ed7953"
            ],
            [
             0.7777777777777778,
             "#fb9f3a"
            ],
            [
             0.8888888888888888,
             "#fdca26"
            ],
            [
             1,
             "#f0f921"
            ]
           ],
           "sequentialminus": [
            [
             0,
             "#0d0887"
            ],
            [
             0.1111111111111111,
             "#46039f"
            ],
            [
             0.2222222222222222,
             "#7201a8"
            ],
            [
             0.3333333333333333,
             "#9c179e"
            ],
            [
             0.4444444444444444,
             "#bd3786"
            ],
            [
             0.5555555555555556,
             "#d8576b"
            ],
            [
             0.6666666666666666,
             "#ed7953"
            ],
            [
             0.7777777777777778,
             "#fb9f3a"
            ],
            [
             0.8888888888888888,
             "#fdca26"
            ],
            [
             1,
             "#f0f921"
            ]
           ]
          },
          "colorway": [
           "#636efa",
           "#EF553B",
           "#00cc96",
           "#ab63fa",
           "#FFA15A",
           "#19d3f3",
           "#FF6692",
           "#B6E880",
           "#FF97FF",
           "#FECB52"
          ],
          "font": {
           "color": "#2a3f5f"
          },
          "geo": {
           "bgcolor": "white",
           "lakecolor": "white",
           "landcolor": "#E5ECF6",
           "showlakes": true,
           "showland": true,
           "subunitcolor": "white"
          },
          "hoverlabel": {
           "align": "left"
          },
          "hovermode": "closest",
          "mapbox": {
           "style": "light"
          },
          "paper_bgcolor": "white",
          "plot_bgcolor": "#E5ECF6",
          "polar": {
           "angularaxis": {
            "gridcolor": "white",
            "linecolor": "white",
            "ticks": ""
           },
           "bgcolor": "#E5ECF6",
           "radialaxis": {
            "gridcolor": "white",
            "linecolor": "white",
            "ticks": ""
           }
          },
          "scene": {
           "xaxis": {
            "backgroundcolor": "#E5ECF6",
            "gridcolor": "white",
            "gridwidth": 2,
            "linecolor": "white",
            "showbackground": true,
            "ticks": "",
            "zerolinecolor": "white"
           },
           "yaxis": {
            "backgroundcolor": "#E5ECF6",
            "gridcolor": "white",
            "gridwidth": 2,
            "linecolor": "white",
            "showbackground": true,
            "ticks": "",
            "zerolinecolor": "white"
           },
           "zaxis": {
            "backgroundcolor": "#E5ECF6",
            "gridcolor": "white",
            "gridwidth": 2,
            "linecolor": "white",
            "showbackground": true,
            "ticks": "",
            "zerolinecolor": "white"
           }
          },
          "shapedefaults": {
           "line": {
            "color": "#2a3f5f"
           }
          },
          "ternary": {
           "aaxis": {
            "gridcolor": "white",
            "linecolor": "white",
            "ticks": ""
           },
           "baxis": {
            "gridcolor": "white",
            "linecolor": "white",
            "ticks": ""
           },
           "bgcolor": "#E5ECF6",
           "caxis": {
            "gridcolor": "white",
            "linecolor": "white",
            "ticks": ""
           }
          },
          "title": {
           "x": 0.05
          },
          "xaxis": {
           "automargin": true,
           "gridcolor": "white",
           "linecolor": "white",
           "ticks": "",
           "title": {
            "standoff": 15
           },
           "zerolinecolor": "white",
           "zerolinewidth": 2
          },
          "yaxis": {
           "automargin": true,
           "gridcolor": "white",
           "linecolor": "white",
           "ticks": "",
           "title": {
            "standoff": 15
           },
           "zerolinecolor": "white",
           "zerolinewidth": 2
          }
         }
        },
        "title": {
         "text": "Map of Locations"
        }
       }
      },
      "image/png": "[encoded data removed]",
      "text/html": [
       "<div>                            <div id=\"1e88ef3b-7e9f-4dfd-a5c7-df4df1cdcea0\" class=\"plotly-graph-div\" style=\"height:525px; width:100%;\"></div>            <script type=\"text/javascript\">                require([\"plotly\"], function(Plotly) {                    window.PLOTLYENV=window.PLOTLYENV || {};                                    if (document.getElementById(\"1e88ef3b-7e9f-4dfd-a5c7-df4df1cdcea0\")) {                    Plotly.newPlot(                        \"1e88ef3b-7e9f-4dfd-a5c7-df4df1cdcea0\",                        [{\"hovertemplate\":\"\\u003cb\\u003e%{hovertext}\\u003c\\u002fb\\u003e\\u003cbr\\u003e\\u003cbr\\u003eLS-Latitude=%{lat}\\u003cbr\\u003eLS-Longitude=%{lon}\\u003cextra\\u003e\\u003c\\u002fextra\\u003e\",\"hovertext\":[\"Abigail Andrews\",\"Ada Brown\",\"Aielah Saric-Auger\",\"Alannah Cardinal\",\"Alberta Williams\",\"Alice Netemegesic\",\"Alisha Germaine\",\"Amanda Cook\",\"Amanda Simpson\",\"Amanda Bartlett\",\"Amber Tuccaro\",\"Amber Guiboche\",\"Andria Meise\",\"Annette Holywhiteman\",\"Angel Carlick\",\"Angela Meyer\",\"Angela Williams\",\"Angela Poorman\",\"Angeline Pete\",\"Anne Peters\",\"Annie Pootoogook\",\"Annie Yassie\",\"Ashley Machiskinic\",\"Audrey Desjarlais\",\"Azraya Ackabee-Kokopenace\",\"Baby Girl\",\"Barbara Keam\",\"Barbara Shapwaykeesic\",\"Beatrice Adam\",\"Belinda Cameron\",\"Belinda Williams\",\"Bella Laboucan-McLean\",\"Bernadette Ahenakew\",\"Bernadine Quewezance\",\"Bernice Bottle\",\"Betsy Owens\",\"Bonnie Jack\",\"Bonnie Joseph\",\"Brandy Vittrekwa\",\"Brandy Wesaquate\",\"Brenda Campbell\",\"Brittany Bearspaw\",\"Brooklyn Moose\",\"Caitlin Potts\",\"Caralyn King\",\"Carol Prudhomme\",\"Carol Davis\",\"Caroline Burns\",\"Carolyn Connolly\",\"Cassandra Antone\",\"Cathy Williams\",\"Cecilia Nikal\",\"Cecilia Payash\",\"Chantelle Bushie\",\"Charlene Catholique\",\"Charnelle Masakeyash\",\"Cherisse Houle\",\"Cheryl Duck\",\"Cheryl Johnson\",\"Cheryl Black\",\"Cheyenne Fox\",\"Christina Littlejohn\",\"Christine Cardinal\",\"Cindy Gladue\",\"Claudette Osborne\",\"Constance Cameron\",\"Corrine Moosomin\",\"Crystal Saunders\",\"Cynthia Audy\",\"Danielle LaRue\",\"Danita Bigeagle\",\"Darlinda Ritchey\",\"Dawn Keewatin\",\"Dawn Crey\",\"Deanna Bellerose\",\"Debbie Pelletier\",\"Deborah Sloss\",\"Deidre Michelin\",\"Delaine Copenace\",\"Delena Lefthand Dixon\",\"Della Ootoova\",\"Delores Brown\",\"Delores Brower\",\"Delores Whiteman\",\"Delphine Nikal\",\"Desiree Oldwoman\",\"Destiny Tom\",\"Diana Rattlesnake\",\"Diane Dobson\",\"Diane Stewart\",\"Dianne Bignell\",\"Donna Kasyon\",\"Donna Taylor\",\"Doreen Hardy\",\"Doreen Jack\",\"Dorothy Spence\",\"Edna Bernard\",\"Edna Smith\",\"Elaine Alook\",\"Elizabeth Dorion\",\"Elsie Sebastian\",\"Emily Ballantyne\",\"Emily Osmond\",\"Emma Dixon\",\"Ernestine Kasyon\",\"Eva Mitchell\",\"Evaline Cameron\",\"Evelyn Kebalo\",\"Felicia Solomon\",\"Fonassa Bruyere\",\"Frances Ellah\",\"Freda Goodrunning\",\"Geraldine Beardy\",\"Geraldine Settee\",\"Gladys Simon\",\"Gladys Tolley\",\"Glenda Morriseau\",\"Glennis Edwards\",\"Gloria Black Plume\",\"Gloria Moody\",\"Gloria Gladue\",\"Heather Ballantyne\",\"Heaven Traverse\",\"Helen Gillings\",\"Helene Ratfat\",\"Marjorie Henderson\",\"Henrietta Millek\",\"Hillary Wilson\",\"Ila Oman\",\"Immaculate Basil\",\"Irma Murdock\",\"Jacqueline Crazybull\",\"Jamie McGuire\",\"Jane Bernard\",\"Jane Sutherland\",\"Janet Henry\",\"Janet Sylvestre\",\"Janice Desjarlais\",\"Janine Wesaquate\",\"Jarita Naistus\",\"Jean Moccasin\",\"Jean Sampare\",\"Jeanenne Fontaine\",\"Jeanette Basil\",\"Jeanette Cardinal\",\"Jeanine St. Jean\",\"Jeannette Chief\",\"Jennifer Catcheway\",\"Jessica Cardinal\",\"Joanne Ghostkeeper\",\"Joey English\",\"Josephine Chakasim\",\"Joyce Hewitt\",\"Joyce Tillotson\",\"Juanita Cardinal\",\"Judy Chescue\",\"Judy Quill\",\"Justine Cochrane\",\"Kari Gordon\",\"Karina Wolfe\",\"Kathleen Leary\",\"Katie Ballantyne\",\"Kellie Little\",\"Kelly Goforth\",\"Kelly Morrisseau\",\"Krystal Andrews\",\"Krystle Knott\",\"Lana Derrick\",\"Lavina Tocher\",\"Leah Anderson\",\"Leanne Benwell\",\"Leona Brule\",\"Leslie Talley\",\"Linda Scott\",\"Linda Guimond\",\"Linda Condo\",\"Lisa Young\",\"Loretta Frank\",\"Lora Banman\",\"Loretta Capot-Blanc\",\"Lori Berens\",\"Lori Kasprick\",\"Lorilee Francis\",\"Mabel Leo\",\"Mae Morton\",\"Maggie Burke\",\"Maggie Mink\",\"Maggie Natomagan\",\"Maisy Odjick\",\"Marcia Koostachin\",\"Margaret Blackbird\",\"Margaret Guylee\",\"Margaret Vedan\",\"Marie Banks\",\"Marie Laliberte\",\"Marie Lasas\",\"Marie Mike\",\"Marie Desjarlais\",\"Mariella Lennie\",\"Marilyn Daniels\",\"Marilyn Munroe\",\"Marlene Abigosis\",\"Martha Boyce\",\"Mary Ann Birmingham\",\"Mary Mark\",\"Mary Hill\",\"Mary Kreiser\",\"Mary Lidguerre\",\"Mary Smith\",\"Mary Goodfellow\",\"Mary Keadjuk\",\"Mavis Mason\",\"Maxine Wapass\",\"Melanie Geddes\",\"Melissa Chaboyer\",\"Michelle Gurney\",\"Michelle Hadwen\",\"Mildred Flett\",\"Misty Potts\",\"Moira Erb\",\"Monica Cardinal\",\"Monica Jack\",\"Flora Muskego\",\"Myrna Montgrand\",\"Nadine Machiskinic\",\"Nancy Dumas\",\"Naomi Desjarlais\",\"Nellie Angutiguluk\",\"Nicole Daniels\",\"Nicolle Hands\",\"Olivia Williams\",\"Pamela Holopainen\",\"Pamela Napoleon\",\"Patricia Quinn\",\"Patricia Carpenter\",\"Patricia Wadhams\",\"Patricia Favel\",\"Pauline Brazeau\",\"Philomene Lemay\",\"Rachel Quinney\",\"Ramona Shular\",\"Ramona Wilson\",\"Rebecca Guno\",\"Rena Fox\",\"Rene Gunning\",\"Rhonda Gardiner\",\"Rhonda Running Bird\",\"Richele Bear\",\"Roberta Lincoln\",\"Roberta Ferguson\",\"Rocelyn Gabriel\",\"Rose-Ann Blackned\",\"Rose Decoteau\",\"Rowena Sharpe\",\"Roxanne Charlie\",\"Roxanne Fleming\",\"Roxanne Isadore\",\"Roxanne Thiara\",\"Ruby Hardy\",\"Ruth Cocks\",\"Sabrina Polchies\",\"Samantha Paul\",\"Sandra Johnson\",\"Sarah Obed\",\"Sarah Skunk\",\"Savannah Hall\",\"Selina Wallace\",\"Serenity\",\"Shannon Alexander\",\"Sharon Merasty\",\"Sharon Abraham\",\"Shelley Anderson\",\"Shelly Dene\",\"Shirley Waquan\",\"Shirley Lonethunder\",\"Shirley Beardy\",\"Shirley Cletheroe\",\"Simone Sanderson\",\"Sindy Ruperthouse\",\"Sonya Cywink\",\"Stella St. Arnault\",\"Sunshine Wood\",\"Susan Assin\",\"Sylvia Guiboche\",\"Tabitha Kalluk\",\"Tamara Chipman\",\"Tamra Keepness\",\"Tania Marsden\",\"Tanya Nepinak\",\"Tanya Brooks\",\"Tanya Hill\",\"Teresa Robinson\",\"Terrie Dauphinais\",\"Thelma Pete\",\"Therena Silva\",\"Therese Labbe\",\"Tiffany Morrison\",\"Tiffany Skye\",\"Tina Fontaine\",\"Trudy Gopher\",\"Velma Duncan\",\"Verna Simard\",\"Victoria Crow Shoe\",\"Victoria Hornbrook\",\"Viola Panacheese\",\"Violet Heathen\",\"Wendy Poole\"],\"lat\":[56.25215177768922,0.0,53.89747828630815,54.30089470461054,54.308599512410275,0.0,53.91938017895877,0.0,0.0,0.0,0.0,0.0,0.0,0.0,0.0,0.0,0.0,0.0,0.0,0.0,0.0,0.0,0.0,0.0,0.0,0.0,0.0,0.0,0.0,0.0,0.0,0.0,0.0,0.0,0.0,0.0,0.0,0.0,0.0,0.0,0.0,0.0,0.0,0.0,0.0,0.0,0.0,0.0,0.0,0.0,0.0,0.0,0.0,0.0,0.0,0.0,0.0,0.0,0.0,0.0,0.0,0.0,0.0,0.0,0.0,0.0,0.0,0.0,0.0,0.0,0.0,0.0,0.0,0.0,0.0,0.0,0.0,0.0,0.0,0.0,0.0,0.0,0.0,0.0,0.0,0.0,0.0,0.0,0.0,0.0,0.0,0.0,0.0,0.0,0.0,0.0,0.0,0.0,0.0,0.0,0.0,0.0,0.0,0.0,0.0,0.0,0.0,0.0,0.0,0.0,0.0,0.0,0.0,0.0,0.0,0.0,0.0,0.0,0.0,0.0,0.0,0.0,0.0,0.0,0.0,0.0,0.0,0.0,0.0,0.0,0.0,0.0,0.0,0.0,0.0,0.0,0.0,0.0,0.0,0.0,0.0,0.0,0.0,0.0,0.0,0.0,0.0,0.0,0.0,0.0,0.0,0.0,0.0,0.0,0.0,0.0,0.0,0.0,0.0,0.0,0.0,0.0,0.0,0.0,0.0,0.0,0.0,0.0,0.0,0.0,0.0,0.0,0.0,0.0,0.0,0.0,0.0,0.0,0.0,0.0,0.0,0.0,0.0,0.0,0.0,0.0,0.0,0.0,0.0,0.0,0.0,0.0,0.0,0.0,0.0,0.0,0.0,0.0,0.0,0.0,0.0,0.0,0.0,0.0,0.0,0.0,0.0,0.0,0.0,0.0,0.0,0.0,0.0,0.0,0.0,0.0,0.0,0.0,0.0,0.0,0.0,0.0,0.0,0.0,0.0,0.0,0.0,0.0,0.0,0.0,0.0,0.0,0.0,0.0,0.0,0.0,0.0,0.0,0.0,0.0,0.0,0.0,0.0,0.0,0.0,0.0,0.0,0.0,0.0,0.0,0.0,0.0,0.0,0.0,0.0,0.0,0.0,0.0,0.0,0.0,0.0,0.0,0.0,0.0,0.0,0.0,0.0,0.0,0.0,0.0,0.0,0.0,0.0,0.0,0.0,0.0,0.0,0.0,0.0,0.0,0.0,0.0,0.0,0.0,0.0,0.0,0.0,0.0,0.0,0.0,0.0,0.0,0.0,0.0,0.0,0.0,0.0,0.0,0.0,0.0,0.0,0.0,0.0,0.0,0.0,0.0,0.0],\"legendgroup\":\"\",\"lon\":[-120.84349141339248,0.0,-122.77743637395488,-111.83341989690068,-130.33392263404053,0.0,-122.75220256367597,0.0,0.0,0.0,0.0,0.0,0.0,0.0,0.0,0.0,0.0,0.0,0.0,0.0,0.0,0.0,0.0,0.0,0.0,0.0,0.0,0.0,0.0,0.0,0.0,0.0,0.0,0.0,0.0,0.0,0.0,0.0,0.0,0.0,0.0,0.0,0.0,0.0,0.0,0.0,0.0,0.0,0.0,0.0,0.0,0.0,0.0,0.0,0.0,0.0,0.0,0.0,0.0,0.0,0.0,0.0,0.0,0.0,0.0,0.0,0.0,0.0,0.0,0.0,0.0,0.0,0.0,0.0,0.0,0.0,0.0,0.0,0.0,0.0,0.0,0.0,0.0,0.0,0.0,0.0,0.0,0.0,0.0,0.0,0.0,0.0,0.0,0.0,0.0,0.0,0.0,0.0,0.0,0.0,0.0,0.0,0.0,0.0,0.0,0.0,0.0,0.0,0.0,0.0,0.0,0.0,0.0,0.0,0.0,0.0,0.0,0.0,0.0,0.0,0.0,0.0,0.0,0.0,0.0,0.0,0.0,0.0,0.0,0.0,0.0,0.0,0.0,0.0,0.0,0.0,0.0,0.0,0.0,0.0,0.0,0.0,0.0,0.0,0.0,0.0,0.0,0.0,0.0,0.0,0.0,0.0,0.0,0.0,0.0,0.0,0.0,0.0,0.0,0.0,0.0,0.0,0.0,0.0,0.0,0.0,0.0,0.0,0.0,0.0,0.0,0.0,0.0,0.0,0.0,0.0,0.0,0.0,0.0,0.0,0.0,0.0,0.0,0.0,0.0,0.0,0.0,0.0,0.0,0.0,0.0,0.0,0.0,0.0,0.0,0.0,0.0,0.0,0.0,0.0,0.0,0.0,0.0,0.0,0.0,0.0,0.0,0.0,0.0,0.0,0.0,0.0,0.0,0.0,0.0,0.0,0.0,0.0,0.0,0.0,0.0,0.0,0.0,0.0,0.0,0.0,0.0,0.0,0.0,0.0,0.0,0.0,0.0,0.0,0.0,0.0,0.0,0.0,0.0,0.0,0.0,0.0,0.0,0.0,0.0,0.0,0.0,0.0,0.0,0.0,0.0,0.0,0.0,0.0,0.0,0.0,0.0,0.0,0.0,0.0,0.0,0.0,0.0,0.0,0.0,0.0,0.0,0.0,0.0,0.0,0.0,0.0,0.0,0.0,0.0,0.0,0.0,0.0,0.0,0.0,0.0,0.0,0.0,0.0,0.0,0.0,0.0,0.0,0.0,0.0,0.0,0.0,0.0,0.0,0.0,0.0,0.0,0.0,0.0,0.0,0.0,0.0,0.0,0.0,0.0,0.0,0.0],\"marker\":{\"color\":\"#636efa\"},\"mode\":\"markers\",\"name\":\"\",\"showlegend\":false,\"subplot\":\"mapbox\",\"type\":\"scattermapbox\"}],                        {\"template\":{\"data\":{\"histogram2dcontour\":[{\"type\":\"histogram2dcontour\",\"colorbar\":{\"outlinewidth\":0,\"ticks\":\"\"},\"colorscale\":[[0.0,\"#0d0887\"],[0.1111111111111111,\"#46039f\"],[0.2222222222222222,\"#7201a8\"],[0.3333333333333333,\"#9c179e\"],[0.4444444444444444,\"#bd3786\"],[0.5555555555555556,\"#d8576b\"],[0.6666666666666666,\"#ed7953\"],[0.7777777777777778,\"#fb9f3a\"],[0.8888888888888888,\"#fdca26\"],[1.0,\"#f0f921\"]]}],\"choropleth\":[{\"type\":\"choropleth\",\"colorbar\":{\"outlinewidth\":0,\"ticks\":\"\"}}],\"histogram2d\":[{\"type\":\"histogram2d\",\"colorbar\":{\"outlinewidth\":0,\"ticks\":\"\"},\"colorscale\":[[0.0,\"#0d0887\"],[0.1111111111111111,\"#46039f\"],[0.2222222222222222,\"#7201a8\"],[0.3333333333333333,\"#9c179e\"],[0.4444444444444444,\"#bd3786\"],[0.5555555555555556,\"#d8576b\"],[0.6666666666666666,\"#ed7953\"],[0.7777777777777778,\"#fb9f3a\"],[0.8888888888888888,\"#fdca26\"],[1.0,\"#f0f921\"]]}],\"heatmap\":[{\"type\":\"heatmap\",\"colorbar\":{\"outlinewidth\":0,\"ticks\":\"\"},\"colorscale\":[[0.0,\"#0d0887\"],[0.1111111111111111,\"#46039f\"],[0.2222222222222222,\"#7201a8\"],[0.3333333333333333,\"#9c179e\"],[0.4444444444444444,\"#bd3786\"],[0.5555555555555556,\"#d8576b\"],[0.6666666666666666,\"#ed7953\"],[0.7777777777777778,\"#fb9f3a\"],[0.8888888888888888,\"#fdca26\"],[1.0,\"#f0f921\"]]}],\"heatmapgl\":[{\"type\":\"heatmapgl\",\"colorbar\":{\"outlinewidth\":0,\"ticks\":\"\"},\"colorscale\":[[0.0,\"#0d0887\"],[0.1111111111111111,\"#46039f\"],[0.2222222222222222,\"#7201a8\"],[0.3333333333333333,\"#9c179e\"],[0.4444444444444444,\"#bd3786\"],[0.5555555555555556,\"#d8576b\"],[0.6666666666666666,\"#ed7953\"],[0.7777777777777778,\"#fb9f3a\"],[0.8888888888888888,\"#fdca26\"],[1.0,\"#f0f921\"]]}],\"contourcarpet\":[{\"type\":\"contourcarpet\",\"colorbar\":{\"outlinewidth\":0,\"ticks\":\"\"}}],\"contour\":[{\"type\":\"contour\",\"colorbar\":{\"outlinewidth\":0,\"ticks\":\"\"},\"colorscale\":[[0.0,\"#0d0887\"],[0.1111111111111111,\"#46039f\"],[0.2222222222222222,\"#7201a8\"],[0.3333333333333333,\"#9c179e\"],[0.4444444444444444,\"#bd3786\"],[0.5555555555555556,\"#d8576b\"],[0.6666666666666666,\"#ed7953\"],[0.7777777777777778,\"#fb9f3a\"],[0.8888888888888888,\"#fdca26\"],[1.0,\"#f0f921\"]]}],\"surface\":[{\"type\":\"surface\",\"colorbar\":{\"outlinewidth\":0,\"ticks\":\"\"},\"colorscale\":[[0.0,\"#0d0887\"],[0.1111111111111111,\"#46039f\"],[0.2222222222222222,\"#7201a8\"],[0.3333333333333333,\"#9c179e\"],[0.4444444444444444,\"#bd3786\"],[0.5555555555555556,\"#d8576b\"],[0.6666666666666666,\"#ed7953\"],[0.7777777777777778,\"#fb9f3a\"],[0.8888888888888888,\"#fdca26\"],[1.0,\"#f0f921\"]]}],\"mesh3d\":[{\"type\":\"mesh3d\",\"colorbar\":{\"outlinewidth\":0,\"ticks\":\"\"}}],\"scatter\":[{\"fillpattern\":{\"fillmode\":\"overlay\",\"size\":10,\"solidity\":0.2},\"type\":\"scatter\"}],\"parcoords\":[{\"type\":\"parcoords\",\"line\":{\"colorbar\":{\"outlinewidth\":0,\"ticks\":\"\"}}}],\"scatterpolargl\":[{\"type\":\"scatterpolargl\",\"marker\":{\"colorbar\":{\"outlinewidth\":0,\"ticks\":\"\"}}}],\"bar\":[{\"error_x\":{\"color\":\"#2a3f5f\"},\"error_y\":{\"color\":\"#2a3f5f\"},\"marker\":{\"line\":{\"color\":\"#E5ECF6\",\"width\":0.5},\"pattern\":{\"fillmode\":\"overlay\",\"size\":10,\"solidity\":0.2}},\"type\":\"bar\"}],\"scattergeo\":[{\"type\":\"scattergeo\",\"marker\":{\"colorbar\":{\"outlinewidth\":0,\"ticks\":\"\"}}}],\"scatterpolar\":[{\"type\":\"scatterpolar\",\"marker\":{\"colorbar\":{\"outlinewidth\":0,\"ticks\":\"\"}}}],\"histogram\":[{\"marker\":{\"pattern\":{\"fillmode\":\"overlay\",\"size\":10,\"solidity\":0.2}},\"type\":\"histogram\"}],\"scattergl\":[{\"type\":\"scattergl\",\"marker\":{\"colorbar\":{\"outlinewidth\":0,\"ticks\":\"\"}}}],\"scatter3d\":[{\"type\":\"scatter3d\",\"line\":{\"colorbar\":{\"outlinewidth\":0,\"ticks\":\"\"}},\"marker\":{\"colorbar\":{\"outlinewidth\":0,\"ticks\":\"\"}}}],\"scattermapbox\":[{\"type\":\"scattermapbox\",\"marker\":{\"colorbar\":{\"outlinewidth\":0,\"ticks\":\"\"}}}],\"scatterternary\":[{\"type\":\"scatterternary\",\"marker\":{\"colorbar\":{\"outlinewidth\":0,\"ticks\":\"\"}}}],\"scattercarpet\":[{\"type\":\"scattercarpet\",\"marker\":{\"colorbar\":{\"outlinewidth\":0,\"ticks\":\"\"}}}],\"carpet\":[{\"aaxis\":{\"endlinecolor\":\"#2a3f5f\",\"gridcolor\":\"white\",\"linecolor\":\"white\",\"minorgridcolor\":\"white\",\"startlinecolor\":\"#2a3f5f\"},\"baxis\":{\"endlinecolor\":\"#2a3f5f\",\"gridcolor\":\"white\",\"linecolor\":\"white\",\"minorgridcolor\":\"white\",\"startlinecolor\":\"#2a3f5f\"},\"type\":\"carpet\"}],\"table\":[{\"cells\":{\"fill\":{\"color\":\"#EBF0F8\"},\"line\":{\"color\":\"white\"}},\"header\":{\"fill\":{\"color\":\"#C8D4E3\"},\"line\":{\"color\":\"white\"}},\"type\":\"table\"}],\"barpolar\":[{\"marker\":{\"line\":{\"color\":\"#E5ECF6\",\"width\":0.5},\"pattern\":{\"fillmode\":\"overlay\",\"size\":10,\"solidity\":0.2}},\"type\":\"barpolar\"}],\"pie\":[{\"automargin\":true,\"type\":\"pie\"}]},\"layout\":{\"autotypenumbers\":\"strict\",\"colorway\":[\"#636efa\",\"#EF553B\",\"#00cc96\",\"#ab63fa\",\"#FFA15A\",\"#19d3f3\",\"#FF6692\",\"#B6E880\",\"#FF97FF\",\"#FECB52\"],\"font\":{\"color\":\"#2a3f5f\"},\"hovermode\":\"closest\",\"hoverlabel\":{\"align\":\"left\"},\"paper_bgcolor\":\"white\",\"plot_bgcolor\":\"#E5ECF6\",\"polar\":{\"bgcolor\":\"#E5ECF6\",\"angularaxis\":{\"gridcolor\":\"white\",\"linecolor\":\"white\",\"ticks\":\"\"},\"radialaxis\":{\"gridcolor\":\"white\",\"linecolor\":\"white\",\"ticks\":\"\"}},\"ternary\":{\"bgcolor\":\"#E5ECF6\",\"aaxis\":{\"gridcolor\":\"white\",\"linecolor\":\"white\",\"ticks\":\"\"},\"baxis\":{\"gridcolor\":\"white\",\"linecolor\":\"white\",\"ticks\":\"\"},\"caxis\":{\"gridcolor\":\"white\",\"linecolor\":\"white\",\"ticks\":\"\"}},\"coloraxis\":{\"colorbar\":{\"outlinewidth\":0,\"ticks\":\"\"}},\"colorscale\":{\"sequential\":[[0.0,\"#0d0887\"],[0.1111111111111111,\"#46039f\"],[0.2222222222222222,\"#7201a8\"],[0.3333333333333333,\"#9c179e\"],[0.4444444444444444,\"#bd3786\"],[0.5555555555555556,\"#d8576b\"],[0.6666666666666666,\"#ed7953\"],[0.7777777777777778,\"#fb9f3a\"],[0.8888888888888888,\"#fdca26\"],[1.0,\"#f0f921\"]],\"sequentialminus\":[[0.0,\"#0d0887\"],[0.1111111111111111,\"#46039f\"],[0.2222222222222222,\"#7201a8\"],[0.3333333333333333,\"#9c179e\"],[0.4444444444444444,\"#bd3786\"],[0.5555555555555556,\"#d8576b\"],[0.6666666666666666,\"#ed7953\"],[0.7777777777777778,\"#fb9f3a\"],[0.8888888888888888,\"#fdca26\"],[1.0,\"#f0f921\"]],\"diverging\":[[0,\"#8e0152\"],[0.1,\"#c51b7d\"],[0.2,\"#de77ae\"],[0.3,\"#f1b6da\"],[0.4,\"#fde0ef\"],[0.5,\"#f7f7f7\"],[0.6,\"#e6f5d0\"],[0.7,\"#b8e186\"],[0.8,\"#7fbc41\"],[0.9,\"#4d9221\"],[1,\"#276419\"]]},\"xaxis\":{\"gridcolor\":\"white\",\"linecolor\":\"white\",\"ticks\":\"\",\"title\":{\"standoff\":15},\"zerolinecolor\":\"white\",\"automargin\":true,\"zerolinewidth\":2},\"yaxis\":{\"gridcolor\":\"white\",\"linecolor\":\"white\",\"ticks\":\"\",\"title\":{\"standoff\":15},\"zerolinecolor\":\"white\",\"automargin\":true,\"zerolinewidth\":2},\"scene\":{\"xaxis\":{\"backgroundcolor\":\"#E5ECF6\",\"gridcolor\":\"white\",\"linecolor\":\"white\",\"showbackground\":true,\"ticks\":\"\",\"zerolinecolor\":\"white\",\"gridwidth\":2},\"yaxis\":{\"backgroundcolor\":\"#E5ECF6\",\"gridcolor\":\"white\",\"linecolor\":\"white\",\"showbackground\":true,\"ticks\":\"\",\"zerolinecolor\":\"white\",\"gridwidth\":2},\"zaxis\":{\"backgroundcolor\":\"#E5ECF6\",\"gridcolor\":\"white\",\"linecolor\":\"white\",\"showbackground\":true,\"ticks\":\"\",\"zerolinecolor\":\"white\",\"gridwidth\":2}},\"shapedefaults\":{\"line\":{\"color\":\"#2a3f5f\"}},\"annotationdefaults\":{\"arrowcolor\":\"#2a3f5f\",\"arrowhead\":0,\"arrowwidth\":1},\"geo\":{\"bgcolor\":\"white\",\"landcolor\":\"#E5ECF6\",\"subunitcolor\":\"white\",\"showland\":true,\"showlakes\":true,\"lakecolor\":\"white\"},\"title\":{\"x\":0.05},\"mapbox\":{\"style\":\"light\"}}},\"mapbox\":{\"domain\":{\"x\":[0.0,1.0],\"y\":[0.0,1.0]},\"center\":{\"lat\":49.2827,\"lon\":-123.1207},\"zoom\":10,\"style\":\"carto-positron\"},\"legend\":{\"tracegroupgap\":0},\"title\":{\"text\":\"Map of Locations\"}},                        {\"responsive\": true}                    ).then(function(){\n",
       "                            \n",
       "var gd = document.getElementById('1e88ef3b-7e9f-4dfd-a5c7-df4df1cdcea0');\n",
       "var x = new MutationObserver(function (mutations, observer) {{\n",
       "        var display = window.getComputedStyle(gd).display;\n",
       "        if (!display || display === 'none') {{\n",
       "            console.log([gd, 'removed!']);\n",
       "            Plotly.purge(gd);\n",
       "            observer.disconnect();\n",
       "        }}\n",
       "}});\n",
       "\n",
       "// Listen for the removal of the full notebook cells\n",
       "var notebookContainer = gd.closest('#notebook-container');\n",
       "if (notebookContainer) {{\n",
       "    x.observe(notebookContainer, {childList: true});\n",
       "}}\n",
       "\n",
       "// Listen for the clearing of the current output cell\n",
       "var outputEl = gd.closest('.output');\n",
       "if (outputEl) {{\n",
       "    x.observe(outputEl, {childList: true});\n",
       "}}\n",
       "\n",
       "                        })                };                });            </script>        </div>"
      ]
     },
     "metadata": {},
     "output_type": "display_data"
    }
   ],
   "source": [
    "# Create a scatter mapbox plot\n",
    "fig = px.scatter_mapbox(\n",
    "    df,\n",
    "    lat='LS-Latitude',\n",
    "    lon='LS-Longitude',\n",
    "    hover_name='Name',  # Display name on hover\n",
    "    title='Map of Locations',\n",
    "    mapbox_style='carto-positron',  # Choose a map style\n",
    "    zoom=10,  # Adjust zoom level\n",
    "    center={\"lat\": 49.2827, \"lon\": -123.1207}  # Center the map based on your data\n",
    ")\n",
    "\n",
    "# Show the plot\n",
    "fig.show()"
   ]
  },
  {
   "cell_type": "code",
   "execution_count": 57,
   "id": "cf98d3ed-d364-49ed-9a27-55d68582113d",
   "metadata": {},
   "outputs": [
    {
     "data": {
      "application/vnd.plotly.v1+json": {
       "config": {
        "plotlyServerURL": "https://plot.ly"
       },
       "data": [
        {
         "hovertemplate": "<b>%{hovertext}</b><br><br>F-Latitude=%{lat}<br>F-Longitude=%{lon}<extra></extra>",
         "hovertext": [
          "Abigail Andrews",
          "Ada Brown",
          "Aielah Saric-Auger",
          "Alannah Cardinal",
          "Alberta Williams",
          "Alice Netemegesic",
          "Alisha Germaine",
          "Amanda Cook",
          "Amanda Simpson",
          "Amanda Bartlett",
          "Amber Tuccaro",
          "Amber Guiboche",
          "Andria Meise",
          "Annette Holywhiteman",
          "Angel Carlick",
          "Angela Meyer",
          "Angela Williams",
          "Angela Poorman",
          "Angeline Pete",
          "Anne Peters",
          "Annie Pootoogook",
          "Annie Yassie",
          "Ashley Machiskinic",
          "Audrey Desjarlais",
          "Azraya Ackabee-Kokopenace",
          "Baby Girl",
          "Barbara Keam",
          "Barbara Shapwaykeesic",
          "Beatrice Adam",
          "Belinda Cameron",
          "Belinda Williams",
          "Bella Laboucan-McLean",
          "Bernadette Ahenakew",
          "Bernadine Quewezance",
          "Bernice Bottle",
          "Betsy Owens",
          "Bonnie Jack",
          "Bonnie Joseph",
          "Brandy Vittrekwa",
          "Brandy Wesaquate",
          "Brenda Campbell",
          "Brittany Bearspaw",
          "Brooklyn Moose",
          "Caitlin Potts",
          "Caralyn King",
          "Carol Prudhomme",
          "Carol Davis",
          "Caroline Burns",
          "Carolyn Connolly",
          "Cassandra Antone",
          "Cathy Williams",
          "Cecilia Nikal",
          "Cecilia Payash",
          "Chantelle Bushie",
          "Charlene Catholique",
          "Charnelle Masakeyash",
          "Cherisse Houle",
          "Cheryl Duck",
          "Cheryl Johnson",
          "Cheryl Black",
          "Cheyenne Fox",
          "Christina Littlejohn",
          "Christine Cardinal",
          "Cindy Gladue",
          "Claudette Osborne",
          "Constance Cameron",
          "Corrine Moosomin",
          "Crystal Saunders",
          "Cynthia Audy",
          "Danielle LaRue",
          "Danita Bigeagle",
          "Darlinda Ritchey",
          "Dawn Keewatin",
          "Dawn Crey",
          "Deanna Bellerose",
          "Debbie Pelletier",
          "Deborah Sloss",
          "Deidre Michelin",
          "Delaine Copenace",
          "Delena Lefthand Dixon",
          "Della Ootoova",
          "Delores Brown",
          "Delores Brower",
          "Delores Whiteman",
          "Delphine Nikal",
          "Desiree Oldwoman",
          "Destiny Tom",
          "Diana Rattlesnake",
          "Diane Dobson",
          "Diane Stewart",
          "Dianne Bignell",
          "Donna Kasyon",
          "Donna Taylor",
          "Doreen Hardy",
          "Doreen Jack",
          "Dorothy Spence",
          "Edna Bernard",
          "Edna Smith",
          "Elaine Alook",
          "Elizabeth Dorion",
          "Elsie Sebastian",
          "Emily Ballantyne",
          "Emily Osmond",
          "Emma Dixon",
          "Ernestine Kasyon",
          "Eva Mitchell",
          "Evaline Cameron",
          "Evelyn Kebalo",
          "Felicia Solomon",
          "Fonassa Bruyere",
          "Frances Ellah",
          "Freda Goodrunning",
          "Geraldine Beardy",
          "Geraldine Settee",
          "Gladys Simon",
          "Gladys Tolley",
          "Glenda Morriseau",
          "Glennis Edwards",
          "Gloria Black Plume",
          "Gloria Moody",
          "Gloria Gladue",
          "Heather Ballantyne",
          "Heaven Traverse",
          "Helen Gillings",
          "Helene Ratfat",
          "Marjorie Henderson",
          "Henrietta Millek",
          "Hillary Wilson",
          "Ila Oman",
          "Immaculate Basil",
          "Irma Murdock",
          "Jacqueline Crazybull",
          "Jamie McGuire",
          "Jane Bernard",
          "Jane Sutherland",
          "Janet Henry",
          "Janet Sylvestre",
          "Janice Desjarlais",
          "Janine Wesaquate",
          "Jarita Naistus",
          "Jean Moccasin",
          "Jean Sampare",
          "Jeanenne Fontaine",
          "Jeanette Basil",
          "Jeanette Cardinal",
          "Jeanine St. Jean",
          "Jeannette Chief",
          "Jennifer Catcheway",
          "Jessica Cardinal",
          "Joanne Ghostkeeper",
          "Joey English",
          "Josephine Chakasim",
          "Joyce Hewitt",
          "Joyce Tillotson",
          "Juanita Cardinal",
          "Judy Chescue",
          "Judy Quill",
          "Justine Cochrane",
          "Kari Gordon",
          "Karina Wolfe",
          "Kathleen Leary",
          "Katie Ballantyne",
          "Kellie Little",
          "Kelly Goforth",
          "Kelly Morrisseau",
          "Krystal Andrews",
          "Krystle Knott",
          "Lana Derrick",
          "Lavina Tocher",
          "Leah Anderson",
          "Leanne Benwell",
          "Leona Brule",
          "Leslie Talley",
          "Linda Scott",
          "Linda Guimond",
          "Linda Condo",
          "Lisa Young",
          "Loretta Frank",
          "Lora Banman",
          "Loretta Capot-Blanc",
          "Lori Berens",
          "Lori Kasprick",
          "Lorilee Francis",
          "Mabel Leo",
          "Mae Morton",
          "Maggie Burke",
          "Maggie Mink",
          "Maggie Natomagan",
          "Maisy Odjick",
          "Marcia Koostachin",
          "Margaret Blackbird",
          "Margaret Guylee",
          "Margaret Vedan",
          "Marie Banks",
          "Marie Laliberte",
          "Marie Lasas",
          "Marie Mike",
          "Marie Desjarlais",
          "Mariella Lennie",
          "Marilyn Daniels",
          "Marilyn Munroe",
          "Marlene Abigosis",
          "Martha Boyce",
          "Mary Ann Birmingham",
          "Mary Mark",
          "Mary Hill",
          "Mary Kreiser",
          "Mary Lidguerre",
          "Mary Smith",
          "Mary Goodfellow",
          "Mary Keadjuk",
          "Mavis Mason",
          "Maxine Wapass",
          "Melanie Geddes",
          "Melissa Chaboyer",
          "Michelle Gurney",
          "Michelle Hadwen",
          "Mildred Flett",
          "Misty Potts",
          "Moira Erb",
          "Monica Cardinal",
          "Monica Jack",
          "Flora Muskego",
          "Myrna Montgrand",
          "Nadine Machiskinic",
          "Nancy Dumas",
          "Naomi Desjarlais",
          "Nellie Angutiguluk",
          "Nicole Daniels",
          "Nicolle Hands",
          "Olivia Williams",
          "Pamela Holopainen",
          "Pamela Napoleon",
          "Patricia Quinn",
          "Patricia Carpenter",
          "Patricia Wadhams",
          "Patricia Favel",
          "Pauline Brazeau",
          "Philomene Lemay",
          "Rachel Quinney",
          "Ramona Shular",
          "Ramona Wilson",
          "Rebecca Guno",
          "Rena Fox",
          "Rene Gunning",
          "Rhonda Gardiner",
          "Rhonda Running Bird",
          "Richele Bear",
          "Roberta Lincoln",
          "Roberta Ferguson",
          "Rocelyn Gabriel",
          "Rose-Ann Blackned",
          "Rose Decoteau",
          "Rowena Sharpe",
          "Roxanne Charlie",
          "Roxanne Fleming",
          "Roxanne Isadore",
          "Roxanne Thiara",
          "Ruby Hardy",
          "Ruth Cocks",
          "Sabrina Polchies",
          "Samantha Paul",
          "Sandra Johnson",
          "Sarah Obed",
          "Sarah Skunk",
          "Savannah Hall",
          "Selina Wallace",
          "Serenity",
          "Shannon Alexander",
          "Sharon Merasty",
          "Sharon Abraham",
          "Shelley Anderson",
          "Shelly Dene",
          "Shirley Waquan",
          "Shirley Lonethunder",
          "Shirley Beardy",
          "Shirley Cletheroe",
          "Simone Sanderson",
          "Sindy Ruperthouse",
          "Sonya Cywink",
          "Stella St. Arnault",
          "Sunshine Wood",
          "Susan Assin",
          "Sylvia Guiboche",
          "Tabitha Kalluk",
          "Tamara Chipman",
          "Tamra Keepness",
          "Tania Marsden",
          "Tanya Nepinak",
          "Tanya Brooks",
          "Tanya Hill",
          "Teresa Robinson",
          "Terrie Dauphinais",
          "Thelma Pete",
          "Therena Silva",
          "Therese Labbe",
          "Tiffany Morrison",
          "Tiffany Skye",
          "Tina Fontaine",
          "Trudy Gopher",
          "Velma Duncan",
          "Verna Simard",
          "Victoria Crow Shoe",
          "Victoria Hornbrook",
          "Viola Panacheese",
          "Violet Heathen",
          "Wendy Poole"
         ],
         "lat": [
          0,
          53.915867871198074,
          53.94542700261835,
          54.30089470461054,
          54.298882221044465,
          48.38237903960095,
          53.8355390344606,
          0,
          0,
          0,
          0,
          0,
          0,
          0,
          0,
          0,
          0,
          0,
          0,
          0,
          0,
          0,
          0,
          0,
          0,
          0,
          0,
          0,
          0,
          0,
          0,
          0,
          0,
          0,
          0,
          0,
          0,
          0,
          0,
          0,
          0,
          0,
          0,
          0,
          0,
          0,
          0,
          0,
          0,
          0,
          0,
          0,
          0,
          0,
          0,
          0,
          0,
          0,
          0,
          0,
          0,
          0,
          0,
          0,
          0,
          0,
          0,
          0,
          0,
          0,
          0,
          0,
          0,
          0,
          0,
          0,
          0,
          0,
          0,
          0,
          0,
          0,
          0,
          0,
          0,
          0,
          0,
          0,
          0,
          0,
          0,
          0,
          0,
          0,
          0,
          0,
          0,
          0,
          0,
          0,
          0,
          0,
          0,
          0,
          0,
          0,
          0,
          0,
          0,
          0,
          0,
          0,
          0,
          0,
          0,
          0,
          0,
          0,
          0,
          0,
          0,
          0,
          0,
          0,
          0,
          0,
          0,
          0,
          0,
          0,
          0,
          0,
          0,
          0,
          0,
          0,
          0,
          0,
          0,
          0,
          0,
          0,
          0,
          0,
          0,
          0,
          0,
          0,
          0,
          0,
          0,
          0,
          0,
          0,
          0,
          0,
          0,
          0,
          0,
          0,
          0,
          0,
          0,
          0,
          0,
          0,
          0,
          0,
          0,
          0,
          0,
          0,
          0,
          0,
          0,
          0,
          0,
          0,
          0,
          0,
          0,
          0,
          0,
          0,
          0,
          0,
          0,
          0,
          0,
          0,
          0,
          0,
          0,
          0,
          0,
          0,
          0,
          0,
          0,
          0,
          0,
          0,
          0,
          0,
          0,
          0,
          0,
          0,
          0,
          0,
          0,
          0,
          0,
          0,
          0,
          0,
          0,
          0,
          0,
          0,
          0,
          0,
          0,
          0,
          0,
          0,
          0,
          0,
          0,
          0,
          0,
          0,
          0,
          0,
          0,
          0,
          0,
          0,
          0,
          0,
          0,
          0,
          0,
          0,
          0,
          0,
          0,
          0,
          0,
          0,
          0,
          0,
          0,
          0,
          0,
          0,
          0,
          0,
          0,
          0,
          0,
          0,
          0,
          0,
          0,
          0,
          0,
          0,
          0,
          0,
          0,
          0,
          0,
          0,
          0,
          0,
          0,
          0,
          0,
          0,
          0,
          0,
          0,
          0,
          0,
          0,
          0,
          0,
          0,
          0,
          0,
          0,
          0,
          0,
          0,
          0,
          0,
          0,
          0,
          0,
          0,
          0,
          0,
          0,
          0,
          0,
          0
         ],
         "legendgroup": "",
         "lon": [
          0,
          -122.7496824594165,
          -122.4568963100156,
          -111.83341989690068,
          -130.27049057075547,
          -89.26319616491153,
          -122.81524681506563,
          0,
          0,
          0,
          0,
          0,
          0,
          0,
          0,
          0,
          0,
          0,
          0,
          0,
          0,
          0,
          0,
          0,
          0,
          0,
          0,
          0,
          0,
          0,
          0,
          0,
          0,
          0,
          0,
          0,
          0,
          0,
          0,
          0,
          0,
          0,
          0,
          0,
          0,
          0,
          0,
          0,
          0,
          0,
          0,
          0,
          0,
          0,
          0,
          0,
          0,
          0,
          0,
          0,
          0,
          0,
          0,
          0,
          0,
          0,
          0,
          0,
          0,
          0,
          0,
          0,
          0,
          0,
          0,
          0,
          0,
          0,
          0,
          0,
          0,
          0,
          0,
          0,
          0,
          0,
          0,
          0,
          0,
          0,
          0,
          0,
          0,
          0,
          0,
          0,
          0,
          0,
          0,
          0,
          0,
          0,
          0,
          0,
          0,
          0,
          0,
          0,
          0,
          0,
          0,
          0,
          0,
          0,
          0,
          0,
          0,
          0,
          0,
          0,
          0,
          0,
          0,
          0,
          0,
          0,
          0,
          0,
          0,
          0,
          0,
          0,
          0,
          0,
          0,
          0,
          0,
          0,
          0,
          0,
          0,
          0,
          0,
          0,
          0,
          0,
          0,
          0,
          0,
          0,
          0,
          0,
          0,
          0,
          0,
          0,
          0,
          0,
          0,
          0,
          0,
          0,
          0,
          0,
          0,
          0,
          0,
          0,
          0,
          0,
          0,
          0,
          0,
          0,
          0,
          0,
          0,
          0,
          0,
          0,
          0,
          0,
          0,
          0,
          0,
          0,
          0,
          0,
          0,
          0,
          0,
          0,
          0,
          0,
          0,
          0,
          0,
          0,
          0,
          0,
          0,
          0,
          0,
          0,
          0,
          0,
          0,
          0,
          0,
          0,
          0,
          0,
          0,
          0,
          0,
          0,
          0,
          0,
          0,
          0,
          0,
          0,
          0,
          0,
          0,
          0,
          0,
          0,
          0,
          0,
          0,
          0,
          0,
          0,
          0,
          0,
          0,
          0,
          0,
          0,
          0,
          0,
          0,
          0,
          0,
          0,
          0,
          0,
          0,
          0,
          0,
          0,
          0,
          0,
          0,
          0,
          0,
          0,
          0,
          0,
          0,
          0,
          0,
          0,
          0,
          0,
          0,
          0,
          0,
          0,
          0,
          0,
          0,
          0,
          0,
          0,
          0,
          0,
          0,
          0,
          0,
          0,
          0,
          0,
          0,
          0,
          0,
          0,
          0,
          0,
          0,
          0,
          0,
          0,
          0,
          0,
          0,
          0,
          0,
          0,
          0,
          0,
          0,
          0,
          0,
          0,
          0
         ],
         "marker": {
          "color": "#636efa"
         },
         "mode": "markers",
         "name": "",
         "showlegend": false,
         "subplot": "mapbox",
         "type": "scattermapbox"
        }
       ],
       "layout": {
        "autosize": true,
        "legend": {
         "tracegroupgap": 0
        },
        "mapbox": {
         "bearing": 0,
         "center": {
          "lat": 54.78150453266582,
          "lon": -103.32516039019538
         },
         "domain": {
          "x": [
           0,
           1
          ],
          "y": [
           0,
           1
          ]
         },
         "pitch": 0,
         "style": "carto-positron",
         "zoom": 2.816500392250509
        },
        "template": {
         "data": {
          "bar": [
           {
            "error_x": {
             "color": "#2a3f5f"
            },
            "error_y": {
             "color": "#2a3f5f"
            },
            "marker": {
             "line": {
              "color": "#E5ECF6",
              "width": 0.5
             },
             "pattern": {
              "fillmode": "overlay",
              "size": 10,
              "solidity": 0.2
             }
            },
            "type": "bar"
           }
          ],
          "barpolar": [
           {
            "marker": {
             "line": {
              "color": "#E5ECF6",
              "width": 0.5
             },
             "pattern": {
              "fillmode": "overlay",
              "size": 10,
              "solidity": 0.2
             }
            },
            "type": "barpolar"
           }
          ],
          "carpet": [
           {
            "aaxis": {
             "endlinecolor": "#2a3f5f",
             "gridcolor": "white",
             "linecolor": "white",
             "minorgridcolor": "white",
             "startlinecolor": "#2a3f5f"
            },
            "baxis": {
             "endlinecolor": "#2a3f5f",
             "gridcolor": "white",
             "linecolor": "white",
             "minorgridcolor": "white",
             "startlinecolor": "#2a3f5f"
            },
            "type": "carpet"
           }
          ],
          "choropleth": [
           {
            "colorbar": {
             "outlinewidth": 0,
             "ticks": ""
            },
            "type": "choropleth"
           }
          ],
          "contour": [
           {
            "colorbar": {
             "outlinewidth": 0,
             "ticks": ""
            },
            "colorscale": [
             [
              0,
              "#0d0887"
             ],
             [
              0.1111111111111111,
              "#46039f"
             ],
             [
              0.2222222222222222,
              "#7201a8"
             ],
             [
              0.3333333333333333,
              "#9c179e"
             ],
             [
              0.4444444444444444,
              "#bd3786"
             ],
             [
              0.5555555555555556,
              "#d8576b"
             ],
             [
              0.6666666666666666,
              "#ed7953"
             ],
             [
              0.7777777777777778,
              "#fb9f3a"
             ],
             [
              0.8888888888888888,
              "#fdca26"
             ],
             [
              1,
              "#f0f921"
             ]
            ],
            "type": "contour"
           }
          ],
          "contourcarpet": [
           {
            "colorbar": {
             "outlinewidth": 0,
             "ticks": ""
            },
            "type": "contourcarpet"
           }
          ],
          "heatmap": [
           {
            "colorbar": {
             "outlinewidth": 0,
             "ticks": ""
            },
            "colorscale": [
             [
              0,
              "#0d0887"
             ],
             [
              0.1111111111111111,
              "#46039f"
             ],
             [
              0.2222222222222222,
              "#7201a8"
             ],
             [
              0.3333333333333333,
              "#9c179e"
             ],
             [
              0.4444444444444444,
              "#bd3786"
             ],
             [
              0.5555555555555556,
              "#d8576b"
             ],
             [
              0.6666666666666666,
              "#ed7953"
             ],
             [
              0.7777777777777778,
              "#fb9f3a"
             ],
             [
              0.8888888888888888,
              "#fdca26"
             ],
             [
              1,
              "#f0f921"
             ]
            ],
            "type": "heatmap"
           }
          ],
          "heatmapgl": [
           {
            "colorbar": {
             "outlinewidth": 0,
             "ticks": ""
            },
            "colorscale": [
             [
              0,
              "#0d0887"
             ],
             [
              0.1111111111111111,
              "#46039f"
             ],
             [
              0.2222222222222222,
              "#7201a8"
             ],
             [
              0.3333333333333333,
              "#9c179e"
             ],
             [
              0.4444444444444444,
              "#bd3786"
             ],
             [
              0.5555555555555556,
              "#d8576b"
             ],
             [
              0.6666666666666666,
              "#ed7953"
             ],
             [
              0.7777777777777778,
              "#fb9f3a"
             ],
             [
              0.8888888888888888,
              "#fdca26"
             ],
             [
              1,
              "#f0f921"
             ]
            ],
            "type": "heatmapgl"
           }
          ],
          "histogram": [
           {
            "marker": {
             "pattern": {
              "fillmode": "overlay",
              "size": 10,
              "solidity": 0.2
             }
            },
            "type": "histogram"
           }
          ],
          "histogram2d": [
           {
            "colorbar": {
             "outlinewidth": 0,
             "ticks": ""
            },
            "colorscale": [
             [
              0,
              "#0d0887"
             ],
             [
              0.1111111111111111,
              "#46039f"
             ],
             [
              0.2222222222222222,
              "#7201a8"
             ],
             [
              0.3333333333333333,
              "#9c179e"
             ],
             [
              0.4444444444444444,
              "#bd3786"
             ],
             [
              0.5555555555555556,
              "#d8576b"
             ],
             [
              0.6666666666666666,
              "#ed7953"
             ],
             [
              0.7777777777777778,
              "#fb9f3a"
             ],
             [
              0.8888888888888888,
              "#fdca26"
             ],
             [
              1,
              "#f0f921"
             ]
            ],
            "type": "histogram2d"
           }
          ],
          "histogram2dcontour": [
           {
            "colorbar": {
             "outlinewidth": 0,
             "ticks": ""
            },
            "colorscale": [
             [
              0,
              "#0d0887"
             ],
             [
              0.1111111111111111,
              "#46039f"
             ],
             [
              0.2222222222222222,
              "#7201a8"
             ],
             [
              0.3333333333333333,
              "#9c179e"
             ],
             [
              0.4444444444444444,
              "#bd3786"
             ],
             [
              0.5555555555555556,
              "#d8576b"
             ],
             [
              0.6666666666666666,
              "#ed7953"
             ],
             [
              0.7777777777777778,
              "#fb9f3a"
             ],
             [
              0.8888888888888888,
              "#fdca26"
             ],
             [
              1,
              "#f0f921"
             ]
            ],
            "type": "histogram2dcontour"
           }
          ],
          "mesh3d": [
           {
            "colorbar": {
             "outlinewidth": 0,
             "ticks": ""
            },
            "type": "mesh3d"
           }
          ],
          "parcoords": [
           {
            "line": {
             "colorbar": {
              "outlinewidth": 0,
              "ticks": ""
             }
            },
            "type": "parcoords"
           }
          ],
          "pie": [
           {
            "automargin": true,
            "type": "pie"
           }
          ],
          "scatter": [
           {
            "fillpattern": {
             "fillmode": "overlay",
             "size": 10,
             "solidity": 0.2
            },
            "type": "scatter"
           }
          ],
          "scatter3d": [
           {
            "line": {
             "colorbar": {
              "outlinewidth": 0,
              "ticks": ""
             }
            },
            "marker": {
             "colorbar": {
              "outlinewidth": 0,
              "ticks": ""
             }
            },
            "type": "scatter3d"
           }
          ],
          "scattercarpet": [
           {
            "marker": {
             "colorbar": {
              "outlinewidth": 0,
              "ticks": ""
             }
            },
            "type": "scattercarpet"
           }
          ],
          "scattergeo": [
           {
            "marker": {
             "colorbar": {
              "outlinewidth": 0,
              "ticks": ""
             }
            },
            "type": "scattergeo"
           }
          ],
          "scattergl": [
           {
            "marker": {
             "colorbar": {
              "outlinewidth": 0,
              "ticks": ""
             }
            },
            "type": "scattergl"
           }
          ],
          "scattermapbox": [
           {
            "marker": {
             "colorbar": {
              "outlinewidth": 0,
              "ticks": ""
             }
            },
            "type": "scattermapbox"
           }
          ],
          "scatterpolar": [
           {
            "marker": {
             "colorbar": {
              "outlinewidth": 0,
              "ticks": ""
             }
            },
            "type": "scatterpolar"
           }
          ],
          "scatterpolargl": [
           {
            "marker": {
             "colorbar": {
              "outlinewidth": 0,
              "ticks": ""
             }
            },
            "type": "scatterpolargl"
           }
          ],
          "scatterternary": [
           {
            "marker": {
             "colorbar": {
              "outlinewidth": 0,
              "ticks": ""
             }
            },
            "type": "scatterternary"
           }
          ],
          "surface": [
           {
            "colorbar": {
             "outlinewidth": 0,
             "ticks": ""
            },
            "colorscale": [
             [
              0,
              "#0d0887"
             ],
             [
              0.1111111111111111,
              "#46039f"
             ],
             [
              0.2222222222222222,
              "#7201a8"
             ],
             [
              0.3333333333333333,
              "#9c179e"
             ],
             [
              0.4444444444444444,
              "#bd3786"
             ],
             [
              0.5555555555555556,
              "#d8576b"
             ],
             [
              0.6666666666666666,
              "#ed7953"
             ],
             [
              0.7777777777777778,
              "#fb9f3a"
             ],
             [
              0.8888888888888888,
              "#fdca26"
             ],
             [
              1,
              "#f0f921"
             ]
            ],
            "type": "surface"
           }
          ],
          "table": [
           {
            "cells": {
             "fill": {
              "color": "#EBF0F8"
             },
             "line": {
              "color": "white"
             }
            },
            "header": {
             "fill": {
              "color": "#C8D4E3"
             },
             "line": {
              "color": "white"
             }
            },
            "type": "table"
           }
          ]
         },
         "layout": {
          "annotationdefaults": {
           "arrowcolor": "#2a3f5f",
           "arrowhead": 0,
           "arrowwidth": 1
          },
          "autotypenumbers": "strict",
          "coloraxis": {
           "colorbar": {
            "outlinewidth": 0,
            "ticks": ""
           }
          },
          "colorscale": {
           "diverging": [
            [
             0,
             "#8e0152"
            ],
            [
             0.1,
             "#c51b7d"
            ],
            [
             0.2,
             "#de77ae"
            ],
            [
             0.3,
             "#f1b6da"
            ],
            [
             0.4,
             "#fde0ef"
            ],
            [
             0.5,
             "#f7f7f7"
            ],
            [
             0.6,
             "#e6f5d0"
            ],
            [
             0.7,
             "#b8e186"
            ],
            [
             0.8,
             "#7fbc41"
            ],
            [
             0.9,
             "#4d9221"
            ],
            [
             1,
             "#276419"
            ]
           ],
           "sequential": [
            [
             0,
             "#0d0887"
            ],
            [
             0.1111111111111111,
             "#46039f"
            ],
            [
             0.2222222222222222,
             "#7201a8"
            ],
            [
             0.3333333333333333,
             "#9c179e"
            ],
            [
             0.4444444444444444,
             "#bd3786"
            ],
            [
             0.5555555555555556,
             "#d8576b"
            ],
            [
             0.6666666666666666,
             "#ed7953"
            ],
            [
             0.7777777777777778,
             "#fb9f3a"
            ],
            [
             0.8888888888888888,
             "#fdca26"
            ],
            [
             1,
             "#f0f921"
            ]
           ],
           "sequentialminus": [
            [
             0,
             "#0d0887"
            ],
            [
             0.1111111111111111,
             "#46039f"
            ],
            [
             0.2222222222222222,
             "#7201a8"
            ],
            [
             0.3333333333333333,
             "#9c179e"
            ],
            [
             0.4444444444444444,
             "#bd3786"
            ],
            [
             0.5555555555555556,
             "#d8576b"
            ],
            [
             0.6666666666666666,
             "#ed7953"
            ],
            [
             0.7777777777777778,
             "#fb9f3a"
            ],
            [
             0.8888888888888888,
             "#fdca26"
            ],
            [
             1,
             "#f0f921"
            ]
           ]
          },
          "colorway": [
           "#636efa",
           "#EF553B",
           "#00cc96",
           "#ab63fa",
           "#FFA15A",
           "#19d3f3",
           "#FF6692",
           "#B6E880",
           "#FF97FF",
           "#FECB52"
          ],
          "font": {
           "color": "#2a3f5f"
          },
          "geo": {
           "bgcolor": "white",
           "lakecolor": "white",
           "landcolor": "#E5ECF6",
           "showlakes": true,
           "showland": true,
           "subunitcolor": "white"
          },
          "hoverlabel": {
           "align": "left"
          },
          "hovermode": "closest",
          "mapbox": {
           "style": "light"
          },
          "paper_bgcolor": "white",
          "plot_bgcolor": "#E5ECF6",
          "polar": {
           "angularaxis": {
            "gridcolor": "white",
            "linecolor": "white",
            "ticks": ""
           },
           "bgcolor": "#E5ECF6",
           "radialaxis": {
            "gridcolor": "white",
            "linecolor": "white",
            "ticks": ""
           }
          },
          "scene": {
           "xaxis": {
            "backgroundcolor": "#E5ECF6",
            "gridcolor": "white",
            "gridwidth": 2,
            "linecolor": "white",
            "showbackground": true,
            "ticks": "",
            "zerolinecolor": "white"
           },
           "yaxis": {
            "backgroundcolor": "#E5ECF6",
            "gridcolor": "white",
            "gridwidth": 2,
            "linecolor": "white",
            "showbackground": true,
            "ticks": "",
            "zerolinecolor": "white"
           },
           "zaxis": {
            "backgroundcolor": "#E5ECF6",
            "gridcolor": "white",
            "gridwidth": 2,
            "linecolor": "white",
            "showbackground": true,
            "ticks": "",
            "zerolinecolor": "white"
           }
          },
          "shapedefaults": {
           "line": {
            "color": "#2a3f5f"
           }
          },
          "ternary": {
           "aaxis": {
            "gridcolor": "white",
            "linecolor": "white",
            "ticks": ""
           },
           "baxis": {
            "gridcolor": "white",
            "linecolor": "white",
            "ticks": ""
           },
           "bgcolor": "#E5ECF6",
           "caxis": {
            "gridcolor": "white",
            "linecolor": "white",
            "ticks": ""
           }
          },
          "title": {
           "x": 0.05
          },
          "xaxis": {
           "automargin": true,
           "gridcolor": "white",
           "linecolor": "white",
           "ticks": "",
           "title": {
            "standoff": 15
           },
           "zerolinecolor": "white",
           "zerolinewidth": 2
          },
          "yaxis": {
           "automargin": true,
           "gridcolor": "white",
           "linecolor": "white",
           "ticks": "",
           "title": {
            "standoff": 15
           },
           "zerolinecolor": "white",
           "zerolinewidth": 2
          }
         }
        },
        "title": {
         "text": "Map of Locations"
        }
       }
      },
      "image/png": "[encoded data removed]",
      "text/html": [
       "<div>                            <div id=\"a92ebf48-35c3-4c67-8780-d71046f80e14\" class=\"plotly-graph-div\" style=\"height:525px; width:100%;\"></div>            <script type=\"text/javascript\">                require([\"plotly\"], function(Plotly) {                    window.PLOTLYENV=window.PLOTLYENV || {};                                    if (document.getElementById(\"a92ebf48-35c3-4c67-8780-d71046f80e14\")) {                    Plotly.newPlot(                        \"a92ebf48-35c3-4c67-8780-d71046f80e14\",                        [{\"hovertemplate\":\"\\u003cb\\u003e%{hovertext}\\u003c\\u002fb\\u003e\\u003cbr\\u003e\\u003cbr\\u003eF-Latitude=%{lat}\\u003cbr\\u003eF-Longitude=%{lon}\\u003cextra\\u003e\\u003c\\u002fextra\\u003e\",\"hovertext\":[\"Abigail Andrews\",\"Ada Brown\",\"Aielah Saric-Auger\",\"Alannah Cardinal\",\"Alberta Williams\",\"Alice Netemegesic\",\"Alisha Germaine\",\"Amanda Cook\",\"Amanda Simpson\",\"Amanda Bartlett\",\"Amber Tuccaro\",\"Amber Guiboche\",\"Andria Meise\",\"Annette Holywhiteman\",\"Angel Carlick\",\"Angela Meyer\",\"Angela Williams\",\"Angela Poorman\",\"Angeline Pete\",\"Anne Peters\",\"Annie Pootoogook\",\"Annie Yassie\",\"Ashley Machiskinic\",\"Audrey Desjarlais\",\"Azraya Ackabee-Kokopenace\",\"Baby Girl\",\"Barbara Keam\",\"Barbara Shapwaykeesic\",\"Beatrice Adam\",\"Belinda Cameron\",\"Belinda Williams\",\"Bella Laboucan-McLean\",\"Bernadette Ahenakew\",\"Bernadine Quewezance\",\"Bernice Bottle\",\"Betsy Owens\",\"Bonnie Jack\",\"Bonnie Joseph\",\"Brandy Vittrekwa\",\"Brandy Wesaquate\",\"Brenda Campbell\",\"Brittany Bearspaw\",\"Brooklyn Moose\",\"Caitlin Potts\",\"Caralyn King\",\"Carol Prudhomme\",\"Carol Davis\",\"Caroline Burns\",\"Carolyn Connolly\",\"Cassandra Antone\",\"Cathy Williams\",\"Cecilia Nikal\",\"Cecilia Payash\",\"Chantelle Bushie\",\"Charlene Catholique\",\"Charnelle Masakeyash\",\"Cherisse Houle\",\"Cheryl Duck\",\"Cheryl Johnson\",\"Cheryl Black\",\"Cheyenne Fox\",\"Christina Littlejohn\",\"Christine Cardinal\",\"Cindy Gladue\",\"Claudette Osborne\",\"Constance Cameron\",\"Corrine Moosomin\",\"Crystal Saunders\",\"Cynthia Audy\",\"Danielle LaRue\",\"Danita Bigeagle\",\"Darlinda Ritchey\",\"Dawn Keewatin\",\"Dawn Crey\",\"Deanna Bellerose\",\"Debbie Pelletier\",\"Deborah Sloss\",\"Deidre Michelin\",\"Delaine Copenace\",\"Delena Lefthand Dixon\",\"Della Ootoova\",\"Delores Brown\",\"Delores Brower\",\"Delores Whiteman\",\"Delphine Nikal\",\"Desiree Oldwoman\",\"Destiny Tom\",\"Diana Rattlesnake\",\"Diane Dobson\",\"Diane Stewart\",\"Dianne Bignell\",\"Donna Kasyon\",\"Donna Taylor\",\"Doreen Hardy\",\"Doreen Jack\",\"Dorothy Spence\",\"Edna Bernard\",\"Edna Smith\",\"Elaine Alook\",\"Elizabeth Dorion\",\"Elsie Sebastian\",\"Emily Ballantyne\",\"Emily Osmond\",\"Emma Dixon\",\"Ernestine Kasyon\",\"Eva Mitchell\",\"Evaline Cameron\",\"Evelyn Kebalo\",\"Felicia Solomon\",\"Fonassa Bruyere\",\"Frances Ellah\",\"Freda Goodrunning\",\"Geraldine Beardy\",\"Geraldine Settee\",\"Gladys Simon\",\"Gladys Tolley\",\"Glenda Morriseau\",\"Glennis Edwards\",\"Gloria Black Plume\",\"Gloria Moody\",\"Gloria Gladue\",\"Heather Ballantyne\",\"Heaven Traverse\",\"Helen Gillings\",\"Helene Ratfat\",\"Marjorie Henderson\",\"Henrietta Millek\",\"Hillary Wilson\",\"Ila Oman\",\"Immaculate Basil\",\"Irma Murdock\",\"Jacqueline Crazybull\",\"Jamie McGuire\",\"Jane Bernard\",\"Jane Sutherland\",\"Janet Henry\",\"Janet Sylvestre\",\"Janice Desjarlais\",\"Janine Wesaquate\",\"Jarita Naistus\",\"Jean Moccasin\",\"Jean Sampare\",\"Jeanenne Fontaine\",\"Jeanette Basil\",\"Jeanette Cardinal\",\"Jeanine St. Jean\",\"Jeannette Chief\",\"Jennifer Catcheway\",\"Jessica Cardinal\",\"Joanne Ghostkeeper\",\"Joey English\",\"Josephine Chakasim\",\"Joyce Hewitt\",\"Joyce Tillotson\",\"Juanita Cardinal\",\"Judy Chescue\",\"Judy Quill\",\"Justine Cochrane\",\"Kari Gordon\",\"Karina Wolfe\",\"Kathleen Leary\",\"Katie Ballantyne\",\"Kellie Little\",\"Kelly Goforth\",\"Kelly Morrisseau\",\"Krystal Andrews\",\"Krystle Knott\",\"Lana Derrick\",\"Lavina Tocher\",\"Leah Anderson\",\"Leanne Benwell\",\"Leona Brule\",\"Leslie Talley\",\"Linda Scott\",\"Linda Guimond\",\"Linda Condo\",\"Lisa Young\",\"Loretta Frank\",\"Lora Banman\",\"Loretta Capot-Blanc\",\"Lori Berens\",\"Lori Kasprick\",\"Lorilee Francis\",\"Mabel Leo\",\"Mae Morton\",\"Maggie Burke\",\"Maggie Mink\",\"Maggie Natomagan\",\"Maisy Odjick\",\"Marcia Koostachin\",\"Margaret Blackbird\",\"Margaret Guylee\",\"Margaret Vedan\",\"Marie Banks\",\"Marie Laliberte\",\"Marie Lasas\",\"Marie Mike\",\"Marie Desjarlais\",\"Mariella Lennie\",\"Marilyn Daniels\",\"Marilyn Munroe\",\"Marlene Abigosis\",\"Martha Boyce\",\"Mary Ann Birmingham\",\"Mary Mark\",\"Mary Hill\",\"Mary Kreiser\",\"Mary Lidguerre\",\"Mary Smith\",\"Mary Goodfellow\",\"Mary Keadjuk\",\"Mavis Mason\",\"Maxine Wapass\",\"Melanie Geddes\",\"Melissa Chaboyer\",\"Michelle Gurney\",\"Michelle Hadwen\",\"Mildred Flett\",\"Misty Potts\",\"Moira Erb\",\"Monica Cardinal\",\"Monica Jack\",\"Flora Muskego\",\"Myrna Montgrand\",\"Nadine Machiskinic\",\"Nancy Dumas\",\"Naomi Desjarlais\",\"Nellie Angutiguluk\",\"Nicole Daniels\",\"Nicolle Hands\",\"Olivia Williams\",\"Pamela Holopainen\",\"Pamela Napoleon\",\"Patricia Quinn\",\"Patricia Carpenter\",\"Patricia Wadhams\",\"Patricia Favel\",\"Pauline Brazeau\",\"Philomene Lemay\",\"Rachel Quinney\",\"Ramona Shular\",\"Ramona Wilson\",\"Rebecca Guno\",\"Rena Fox\",\"Rene Gunning\",\"Rhonda Gardiner\",\"Rhonda Running Bird\",\"Richele Bear\",\"Roberta Lincoln\",\"Roberta Ferguson\",\"Rocelyn Gabriel\",\"Rose-Ann Blackned\",\"Rose Decoteau\",\"Rowena Sharpe\",\"Roxanne Charlie\",\"Roxanne Fleming\",\"Roxanne Isadore\",\"Roxanne Thiara\",\"Ruby Hardy\",\"Ruth Cocks\",\"Sabrina Polchies\",\"Samantha Paul\",\"Sandra Johnson\",\"Sarah Obed\",\"Sarah Skunk\",\"Savannah Hall\",\"Selina Wallace\",\"Serenity\",\"Shannon Alexander\",\"Sharon Merasty\",\"Sharon Abraham\",\"Shelley Anderson\",\"Shelly Dene\",\"Shirley Waquan\",\"Shirley Lonethunder\",\"Shirley Beardy\",\"Shirley Cletheroe\",\"Simone Sanderson\",\"Sindy Ruperthouse\",\"Sonya Cywink\",\"Stella St. Arnault\",\"Sunshine Wood\",\"Susan Assin\",\"Sylvia Guiboche\",\"Tabitha Kalluk\",\"Tamara Chipman\",\"Tamra Keepness\",\"Tania Marsden\",\"Tanya Nepinak\",\"Tanya Brooks\",\"Tanya Hill\",\"Teresa Robinson\",\"Terrie Dauphinais\",\"Thelma Pete\",\"Therena Silva\",\"Therese Labbe\",\"Tiffany Morrison\",\"Tiffany Skye\",\"Tina Fontaine\",\"Trudy Gopher\",\"Velma Duncan\",\"Verna Simard\",\"Victoria Crow Shoe\",\"Victoria Hornbrook\",\"Viola Panacheese\",\"Violet Heathen\",\"Wendy Poole\"],\"lat\":[0.0,53.915867871198074,53.94542700261835,54.30089470461054,54.298882221044465,48.38237903960095,53.8355390344606,0.0,0.0,0.0,0.0,0.0,0.0,0.0,0.0,0.0,0.0,0.0,0.0,0.0,0.0,0.0,0.0,0.0,0.0,0.0,0.0,0.0,0.0,0.0,0.0,0.0,0.0,0.0,0.0,0.0,0.0,0.0,0.0,0.0,0.0,0.0,0.0,0.0,0.0,0.0,0.0,0.0,0.0,0.0,0.0,0.0,0.0,0.0,0.0,0.0,0.0,0.0,0.0,0.0,0.0,0.0,0.0,0.0,0.0,0.0,0.0,0.0,0.0,0.0,0.0,0.0,0.0,0.0,0.0,0.0,0.0,0.0,0.0,0.0,0.0,0.0,0.0,0.0,0.0,0.0,0.0,0.0,0.0,0.0,0.0,0.0,0.0,0.0,0.0,0.0,0.0,0.0,0.0,0.0,0.0,0.0,0.0,0.0,0.0,0.0,0.0,0.0,0.0,0.0,0.0,0.0,0.0,0.0,0.0,0.0,0.0,0.0,0.0,0.0,0.0,0.0,0.0,0.0,0.0,0.0,0.0,0.0,0.0,0.0,0.0,0.0,0.0,0.0,0.0,0.0,0.0,0.0,0.0,0.0,0.0,0.0,0.0,0.0,0.0,0.0,0.0,0.0,0.0,0.0,0.0,0.0,0.0,0.0,0.0,0.0,0.0,0.0,0.0,0.0,0.0,0.0,0.0,0.0,0.0,0.0,0.0,0.0,0.0,0.0,0.0,0.0,0.0,0.0,0.0,0.0,0.0,0.0,0.0,0.0,0.0,0.0,0.0,0.0,0.0,0.0,0.0,0.0,0.0,0.0,0.0,0.0,0.0,0.0,0.0,0.0,0.0,0.0,0.0,0.0,0.0,0.0,0.0,0.0,0.0,0.0,0.0,0.0,0.0,0.0,0.0,0.0,0.0,0.0,0.0,0.0,0.0,0.0,0.0,0.0,0.0,0.0,0.0,0.0,0.0,0.0,0.0,0.0,0.0,0.0,0.0,0.0,0.0,0.0,0.0,0.0,0.0,0.0,0.0,0.0,0.0,0.0,0.0,0.0,0.0,0.0,0.0,0.0,0.0,0.0,0.0,0.0,0.0,0.0,0.0,0.0,0.0,0.0,0.0,0.0,0.0,0.0,0.0,0.0,0.0,0.0,0.0,0.0,0.0,0.0,0.0,0.0,0.0,0.0,0.0,0.0,0.0,0.0,0.0,0.0,0.0,0.0,0.0,0.0,0.0,0.0,0.0,0.0,0.0,0.0,0.0,0.0,0.0,0.0,0.0,0.0,0.0,0.0,0.0,0.0,0.0,0.0,0.0,0.0,0.0,0.0,0.0],\"legendgroup\":\"\",\"lon\":[0.0,-122.7496824594165,-122.4568963100156,-111.83341989690068,-130.27049057075547,-89.26319616491153,-122.81524681506563,0.0,0.0,0.0,0.0,0.0,0.0,0.0,0.0,0.0,0.0,0.0,0.0,0.0,0.0,0.0,0.0,0.0,0.0,0.0,0.0,0.0,0.0,0.0,0.0,0.0,0.0,0.0,0.0,0.0,0.0,0.0,0.0,0.0,0.0,0.0,0.0,0.0,0.0,0.0,0.0,0.0,0.0,0.0,0.0,0.0,0.0,0.0,0.0,0.0,0.0,0.0,0.0,0.0,0.0,0.0,0.0,0.0,0.0,0.0,0.0,0.0,0.0,0.0,0.0,0.0,0.0,0.0,0.0,0.0,0.0,0.0,0.0,0.0,0.0,0.0,0.0,0.0,0.0,0.0,0.0,0.0,0.0,0.0,0.0,0.0,0.0,0.0,0.0,0.0,0.0,0.0,0.0,0.0,0.0,0.0,0.0,0.0,0.0,0.0,0.0,0.0,0.0,0.0,0.0,0.0,0.0,0.0,0.0,0.0,0.0,0.0,0.0,0.0,0.0,0.0,0.0,0.0,0.0,0.0,0.0,0.0,0.0,0.0,0.0,0.0,0.0,0.0,0.0,0.0,0.0,0.0,0.0,0.0,0.0,0.0,0.0,0.0,0.0,0.0,0.0,0.0,0.0,0.0,0.0,0.0,0.0,0.0,0.0,0.0,0.0,0.0,0.0,0.0,0.0,0.0,0.0,0.0,0.0,0.0,0.0,0.0,0.0,0.0,0.0,0.0,0.0,0.0,0.0,0.0,0.0,0.0,0.0,0.0,0.0,0.0,0.0,0.0,0.0,0.0,0.0,0.0,0.0,0.0,0.0,0.0,0.0,0.0,0.0,0.0,0.0,0.0,0.0,0.0,0.0,0.0,0.0,0.0,0.0,0.0,0.0,0.0,0.0,0.0,0.0,0.0,0.0,0.0,0.0,0.0,0.0,0.0,0.0,0.0,0.0,0.0,0.0,0.0,0.0,0.0,0.0,0.0,0.0,0.0,0.0,0.0,0.0,0.0,0.0,0.0,0.0,0.0,0.0,0.0,0.0,0.0,0.0,0.0,0.0,0.0,0.0,0.0,0.0,0.0,0.0,0.0,0.0,0.0,0.0,0.0,0.0,0.0,0.0,0.0,0.0,0.0,0.0,0.0,0.0,0.0,0.0,0.0,0.0,0.0,0.0,0.0,0.0,0.0,0.0,0.0,0.0,0.0,0.0,0.0,0.0,0.0,0.0,0.0,0.0,0.0,0.0,0.0,0.0,0.0,0.0,0.0,0.0,0.0,0.0,0.0,0.0,0.0,0.0,0.0,0.0,0.0,0.0,0.0,0.0,0.0,0.0],\"marker\":{\"color\":\"#636efa\"},\"mode\":\"markers\",\"name\":\"\",\"showlegend\":false,\"subplot\":\"mapbox\",\"type\":\"scattermapbox\"}],                        {\"template\":{\"data\":{\"histogram2dcontour\":[{\"type\":\"histogram2dcontour\",\"colorbar\":{\"outlinewidth\":0,\"ticks\":\"\"},\"colorscale\":[[0.0,\"#0d0887\"],[0.1111111111111111,\"#46039f\"],[0.2222222222222222,\"#7201a8\"],[0.3333333333333333,\"#9c179e\"],[0.4444444444444444,\"#bd3786\"],[0.5555555555555556,\"#d8576b\"],[0.6666666666666666,\"#ed7953\"],[0.7777777777777778,\"#fb9f3a\"],[0.8888888888888888,\"#fdca26\"],[1.0,\"#f0f921\"]]}],\"choropleth\":[{\"type\":\"choropleth\",\"colorbar\":{\"outlinewidth\":0,\"ticks\":\"\"}}],\"histogram2d\":[{\"type\":\"histogram2d\",\"colorbar\":{\"outlinewidth\":0,\"ticks\":\"\"},\"colorscale\":[[0.0,\"#0d0887\"],[0.1111111111111111,\"#46039f\"],[0.2222222222222222,\"#7201a8\"],[0.3333333333333333,\"#9c179e\"],[0.4444444444444444,\"#bd3786\"],[0.5555555555555556,\"#d8576b\"],[0.6666666666666666,\"#ed7953\"],[0.7777777777777778,\"#fb9f3a\"],[0.8888888888888888,\"#fdca26\"],[1.0,\"#f0f921\"]]}],\"heatmap\":[{\"type\":\"heatmap\",\"colorbar\":{\"outlinewidth\":0,\"ticks\":\"\"},\"colorscale\":[[0.0,\"#0d0887\"],[0.1111111111111111,\"#46039f\"],[0.2222222222222222,\"#7201a8\"],[0.3333333333333333,\"#9c179e\"],[0.4444444444444444,\"#bd3786\"],[0.5555555555555556,\"#d8576b\"],[0.6666666666666666,\"#ed7953\"],[0.7777777777777778,\"#fb9f3a\"],[0.8888888888888888,\"#fdca26\"],[1.0,\"#f0f921\"]]}],\"heatmapgl\":[{\"type\":\"heatmapgl\",\"colorbar\":{\"outlinewidth\":0,\"ticks\":\"\"},\"colorscale\":[[0.0,\"#0d0887\"],[0.1111111111111111,\"#46039f\"],[0.2222222222222222,\"#7201a8\"],[0.3333333333333333,\"#9c179e\"],[0.4444444444444444,\"#bd3786\"],[0.5555555555555556,\"#d8576b\"],[0.6666666666666666,\"#ed7953\"],[0.7777777777777778,\"#fb9f3a\"],[0.8888888888888888,\"#fdca26\"],[1.0,\"#f0f921\"]]}],\"contourcarpet\":[{\"type\":\"contourcarpet\",\"colorbar\":{\"outlinewidth\":0,\"ticks\":\"\"}}],\"contour\":[{\"type\":\"contour\",\"colorbar\":{\"outlinewidth\":0,\"ticks\":\"\"},\"colorscale\":[[0.0,\"#0d0887\"],[0.1111111111111111,\"#46039f\"],[0.2222222222222222,\"#7201a8\"],[0.3333333333333333,\"#9c179e\"],[0.4444444444444444,\"#bd3786\"],[0.5555555555555556,\"#d8576b\"],[0.6666666666666666,\"#ed7953\"],[0.7777777777777778,\"#fb9f3a\"],[0.8888888888888888,\"#fdca26\"],[1.0,\"#f0f921\"]]}],\"surface\":[{\"type\":\"surface\",\"colorbar\":{\"outlinewidth\":0,\"ticks\":\"\"},\"colorscale\":[[0.0,\"#0d0887\"],[0.1111111111111111,\"#46039f\"],[0.2222222222222222,\"#7201a8\"],[0.3333333333333333,\"#9c179e\"],[0.4444444444444444,\"#bd3786\"],[0.5555555555555556,\"#d8576b\"],[0.6666666666666666,\"#ed7953\"],[0.7777777777777778,\"#fb9f3a\"],[0.8888888888888888,\"#fdca26\"],[1.0,\"#f0f921\"]]}],\"mesh3d\":[{\"type\":\"mesh3d\",\"colorbar\":{\"outlinewidth\":0,\"ticks\":\"\"}}],\"scatter\":[{\"fillpattern\":{\"fillmode\":\"overlay\",\"size\":10,\"solidity\":0.2},\"type\":\"scatter\"}],\"parcoords\":[{\"type\":\"parcoords\",\"line\":{\"colorbar\":{\"outlinewidth\":0,\"ticks\":\"\"}}}],\"scatterpolargl\":[{\"type\":\"scatterpolargl\",\"marker\":{\"colorbar\":{\"outlinewidth\":0,\"ticks\":\"\"}}}],\"bar\":[{\"error_x\":{\"color\":\"#2a3f5f\"},\"error_y\":{\"color\":\"#2a3f5f\"},\"marker\":{\"line\":{\"color\":\"#E5ECF6\",\"width\":0.5},\"pattern\":{\"fillmode\":\"overlay\",\"size\":10,\"solidity\":0.2}},\"type\":\"bar\"}],\"scattergeo\":[{\"type\":\"scattergeo\",\"marker\":{\"colorbar\":{\"outlinewidth\":0,\"ticks\":\"\"}}}],\"scatterpolar\":[{\"type\":\"scatterpolar\",\"marker\":{\"colorbar\":{\"outlinewidth\":0,\"ticks\":\"\"}}}],\"histogram\":[{\"marker\":{\"pattern\":{\"fillmode\":\"overlay\",\"size\":10,\"solidity\":0.2}},\"type\":\"histogram\"}],\"scattergl\":[{\"type\":\"scattergl\",\"marker\":{\"colorbar\":{\"outlinewidth\":0,\"ticks\":\"\"}}}],\"scatter3d\":[{\"type\":\"scatter3d\",\"line\":{\"colorbar\":{\"outlinewidth\":0,\"ticks\":\"\"}},\"marker\":{\"colorbar\":{\"outlinewidth\":0,\"ticks\":\"\"}}}],\"scattermapbox\":[{\"type\":\"scattermapbox\",\"marker\":{\"colorbar\":{\"outlinewidth\":0,\"ticks\":\"\"}}}],\"scatterternary\":[{\"type\":\"scatterternary\",\"marker\":{\"colorbar\":{\"outlinewidth\":0,\"ticks\":\"\"}}}],\"scattercarpet\":[{\"type\":\"scattercarpet\",\"marker\":{\"colorbar\":{\"outlinewidth\":0,\"ticks\":\"\"}}}],\"carpet\":[{\"aaxis\":{\"endlinecolor\":\"#2a3f5f\",\"gridcolor\":\"white\",\"linecolor\":\"white\",\"minorgridcolor\":\"white\",\"startlinecolor\":\"#2a3f5f\"},\"baxis\":{\"endlinecolor\":\"#2a3f5f\",\"gridcolor\":\"white\",\"linecolor\":\"white\",\"minorgridcolor\":\"white\",\"startlinecolor\":\"#2a3f5f\"},\"type\":\"carpet\"}],\"table\":[{\"cells\":{\"fill\":{\"color\":\"#EBF0F8\"},\"line\":{\"color\":\"white\"}},\"header\":{\"fill\":{\"color\":\"#C8D4E3\"},\"line\":{\"color\":\"white\"}},\"type\":\"table\"}],\"barpolar\":[{\"marker\":{\"line\":{\"color\":\"#E5ECF6\",\"width\":0.5},\"pattern\":{\"fillmode\":\"overlay\",\"size\":10,\"solidity\":0.2}},\"type\":\"barpolar\"}],\"pie\":[{\"automargin\":true,\"type\":\"pie\"}]},\"layout\":{\"autotypenumbers\":\"strict\",\"colorway\":[\"#636efa\",\"#EF553B\",\"#00cc96\",\"#ab63fa\",\"#FFA15A\",\"#19d3f3\",\"#FF6692\",\"#B6E880\",\"#FF97FF\",\"#FECB52\"],\"font\":{\"color\":\"#2a3f5f\"},\"hovermode\":\"closest\",\"hoverlabel\":{\"align\":\"left\"},\"paper_bgcolor\":\"white\",\"plot_bgcolor\":\"#E5ECF6\",\"polar\":{\"bgcolor\":\"#E5ECF6\",\"angularaxis\":{\"gridcolor\":\"white\",\"linecolor\":\"white\",\"ticks\":\"\"},\"radialaxis\":{\"gridcolor\":\"white\",\"linecolor\":\"white\",\"ticks\":\"\"}},\"ternary\":{\"bgcolor\":\"#E5ECF6\",\"aaxis\":{\"gridcolor\":\"white\",\"linecolor\":\"white\",\"ticks\":\"\"},\"baxis\":{\"gridcolor\":\"white\",\"linecolor\":\"white\",\"ticks\":\"\"},\"caxis\":{\"gridcolor\":\"white\",\"linecolor\":\"white\",\"ticks\":\"\"}},\"coloraxis\":{\"colorbar\":{\"outlinewidth\":0,\"ticks\":\"\"}},\"colorscale\":{\"sequential\":[[0.0,\"#0d0887\"],[0.1111111111111111,\"#46039f\"],[0.2222222222222222,\"#7201a8\"],[0.3333333333333333,\"#9c179e\"],[0.4444444444444444,\"#bd3786\"],[0.5555555555555556,\"#d8576b\"],[0.6666666666666666,\"#ed7953\"],[0.7777777777777778,\"#fb9f3a\"],[0.8888888888888888,\"#fdca26\"],[1.0,\"#f0f921\"]],\"sequentialminus\":[[0.0,\"#0d0887\"],[0.1111111111111111,\"#46039f\"],[0.2222222222222222,\"#7201a8\"],[0.3333333333333333,\"#9c179e\"],[0.4444444444444444,\"#bd3786\"],[0.5555555555555556,\"#d8576b\"],[0.6666666666666666,\"#ed7953\"],[0.7777777777777778,\"#fb9f3a\"],[0.8888888888888888,\"#fdca26\"],[1.0,\"#f0f921\"]],\"diverging\":[[0,\"#8e0152\"],[0.1,\"#c51b7d\"],[0.2,\"#de77ae\"],[0.3,\"#f1b6da\"],[0.4,\"#fde0ef\"],[0.5,\"#f7f7f7\"],[0.6,\"#e6f5d0\"],[0.7,\"#b8e186\"],[0.8,\"#7fbc41\"],[0.9,\"#4d9221\"],[1,\"#276419\"]]},\"xaxis\":{\"gridcolor\":\"white\",\"linecolor\":\"white\",\"ticks\":\"\",\"title\":{\"standoff\":15},\"zerolinecolor\":\"white\",\"automargin\":true,\"zerolinewidth\":2},\"yaxis\":{\"gridcolor\":\"white\",\"linecolor\":\"white\",\"ticks\":\"\",\"title\":{\"standoff\":15},\"zerolinecolor\":\"white\",\"automargin\":true,\"zerolinewidth\":2},\"scene\":{\"xaxis\":{\"backgroundcolor\":\"#E5ECF6\",\"gridcolor\":\"white\",\"linecolor\":\"white\",\"showbackground\":true,\"ticks\":\"\",\"zerolinecolor\":\"white\",\"gridwidth\":2},\"yaxis\":{\"backgroundcolor\":\"#E5ECF6\",\"gridcolor\":\"white\",\"linecolor\":\"white\",\"showbackground\":true,\"ticks\":\"\",\"zerolinecolor\":\"white\",\"gridwidth\":2},\"zaxis\":{\"backgroundcolor\":\"#E5ECF6\",\"gridcolor\":\"white\",\"linecolor\":\"white\",\"showbackground\":true,\"ticks\":\"\",\"zerolinecolor\":\"white\",\"gridwidth\":2}},\"shapedefaults\":{\"line\":{\"color\":\"#2a3f5f\"}},\"annotationdefaults\":{\"arrowcolor\":\"#2a3f5f\",\"arrowhead\":0,\"arrowwidth\":1},\"geo\":{\"bgcolor\":\"white\",\"landcolor\":\"#E5ECF6\",\"subunitcolor\":\"white\",\"showland\":true,\"showlakes\":true,\"lakecolor\":\"white\"},\"title\":{\"x\":0.05},\"mapbox\":{\"style\":\"light\"}}},\"mapbox\":{\"domain\":{\"x\":[0.0,1.0],\"y\":[0.0,1.0]},\"center\":{\"lat\":1.0380423122916385,\"lon\":-2.2781398443552616},\"zoom\":5,\"style\":\"carto-positron\"},\"legend\":{\"tracegroupgap\":0},\"title\":{\"text\":\"Map of Locations\"}},                        {\"responsive\": true}                    ).then(function(){\n",
       "                            \n",
       "var gd = document.getElementById('a92ebf48-35c3-4c67-8780-d71046f80e14');\n",
       "var x = new MutationObserver(function (mutations, observer) {{\n",
       "        var display = window.getComputedStyle(gd).display;\n",
       "        if (!display || display === 'none') {{\n",
       "            console.log([gd, 'removed!']);\n",
       "            Plotly.purge(gd);\n",
       "            observer.disconnect();\n",
       "        }}\n",
       "}});\n",
       "\n",
       "// Listen for the removal of the full notebook cells\n",
       "var notebookContainer = gd.closest('#notebook-container');\n",
       "if (notebookContainer) {{\n",
       "    x.observe(notebookContainer, {childList: true});\n",
       "}}\n",
       "\n",
       "// Listen for the clearing of the current output cell\n",
       "var outputEl = gd.closest('.output');\n",
       "if (outputEl) {{\n",
       "    x.observe(outputEl, {childList: true});\n",
       "}}\n",
       "\n",
       "                        })                };                });            </script>        </div>"
      ]
     },
     "metadata": {},
     "output_type": "display_data"
    }
   ],
   "source": [
    "# Create a scatter mapbox plot\n",
    "fig = px.scatter_mapbox(\n",
    "    df,\n",
    "    lat='F-Latitude',\n",
    "    lon='F-Longitude',\n",
    "    hover_name='Name',  # Display name on hover\n",
    "    title='Map of Locations',\n",
    "    mapbox_style='carto-positron',  # Choose a map style\n",
    "    zoom=5,  # Adjust zoom level\n",
    ")\n",
    "\n",
    "# Show the plot\n",
    "fig.show()"
   ]
  },
  {
   "cell_type": "code",
   "execution_count": null,
   "id": "94c93686-e4e1-42d7-9e61-cd2fa504b6e6",
   "metadata": {},
   "outputs": [],
   "source": []
  }
 ],
 "metadata": {
  "kernelspec": {
   "display_name": "Python 3 (ipykernel)",
   "language": "python",
   "name": "python3"
  },
  "language_info": {
   "codemirror_mode": {
    "name": "ipython",
    "version": 3
   },
   "file_extension": ".py",
   "mimetype": "text/x-python",
   "name": "python",
   "nbconvert_exporter": "python",
   "pygments_lexer": "ipython3",
   "version": "3.11.5"
  }
 },
 "nbformat": 4,
 "nbformat_minor": 5
}
